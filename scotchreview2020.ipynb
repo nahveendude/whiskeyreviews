{
 "cells": [
  {
   "cell_type": "markdown",
   "metadata": {},
   "source": [
    "#### 1. Import necessary modules"
   ]
  },
  {
   "cell_type": "code",
   "execution_count": 1271,
   "metadata": {},
   "outputs": [],
   "source": [
    "import numpy as np\n",
    "import pandas as pd\n",
    "import matplotlib.pyplot as plt\n",
    "import seaborn as sns\n",
    "%matplotlib inline"
   ]
  },
  {
   "cell_type": "markdown",
   "metadata": {},
   "source": [
    "#### 2. Gather Data"
   ]
  },
  {
   "cell_type": "markdown",
   "metadata": {},
   "source": [
    "Data is read using the Pandas read_csv() function and stored in df "
   ]
  },
  {
   "cell_type": "code",
   "execution_count": 1272,
   "metadata": {},
   "outputs": [
    {
     "data": {
      "text/html": [
       "<div>\n",
       "<style scoped>\n",
       "    .dataframe tbody tr th:only-of-type {\n",
       "        vertical-align: middle;\n",
       "    }\n",
       "\n",
       "    .dataframe tbody tr th {\n",
       "        vertical-align: top;\n",
       "    }\n",
       "\n",
       "    .dataframe thead th {\n",
       "        text-align: right;\n",
       "    }\n",
       "</style>\n",
       "<table border=\"1\" class=\"dataframe\">\n",
       "  <thead>\n",
       "    <tr style=\"text-align: right;\">\n",
       "      <th></th>\n",
       "      <th>id</th>\n",
       "      <th>name</th>\n",
       "      <th>category</th>\n",
       "      <th>review.point</th>\n",
       "      <th>price</th>\n",
       "      <th>currency</th>\n",
       "      <th>description.1.2247.</th>\n",
       "    </tr>\n",
       "  </thead>\n",
       "  <tbody>\n",
       "    <tr>\n",
       "      <th>0</th>\n",
       "      <td>1</td>\n",
       "      <td>Black Bowmore 42 year old 1964 vintage, 40.5%</td>\n",
       "      <td>Single Malt Scotch</td>\n",
       "      <td>97</td>\n",
       "      <td>4500</td>\n",
       "      <td>$</td>\n",
       "      <td>What impresses me most is how this whisky evolves; it's incredibly complex. On the nose and palate, this is a thick, viscous, whisky with notes of sticky toffee, earthy oak, fig cake, roasted nuts, fallen fruit, pancake batter, black cherry, ripe peach, dark chocolate-covered espresso bean, polished leather, tobacco, a hint of wild game, and lingering, leafy damp kiln smoke. Flavors continue on the palate long after swallowing. This is what we all hope for (and dream of) in an older whisky!</td>\n",
       "    </tr>\n",
       "    <tr>\n",
       "      <th>1</th>\n",
       "      <td>2</td>\n",
       "      <td>Bowmore 46 year old (distilled 1964), 42.9%</td>\n",
       "      <td>Single Malt Scotch</td>\n",
       "      <td>97</td>\n",
       "      <td>13500</td>\n",
       "      <td>$</td>\n",
       "      <td>There have been some legendary Bowmores from the mid-60s and this is every bit their equal. All of them share a remarkable aroma of tropical fruit, which here moves into hallucinatory intensity: guava, mango, peach, pineapple, grapefruit. There’s a very light touch of peat smoke, more a memory of Islay than the reality. Concentrated; even at low strength the palate is silky, heady, and haunting, and lasts forever in the dry glass. A legend is born. (Eight bottles only for the U.S.) Editor's Choice.</td>\n",
       "    </tr>\n",
       "    <tr>\n",
       "      <th>2</th>\n",
       "      <td>3</td>\n",
       "      <td>Johnnie Walker Blue Label, 40%</td>\n",
       "      <td>Blended Scotch Whisky</td>\n",
       "      <td>97</td>\n",
       "      <td>225</td>\n",
       "      <td>$</td>\n",
       "      <td>Magnificently powerful and intense. Caramels, dried peats, elegant cigar smoke, seeds scraped from vanilla beans, brand new pencils, peppercorn, coriander seeds, and star anise make for a deeply satisfying nosing experience. Silky caramels, bountiful fruits of ripe peach, stewed apple, orange pith, and pervasive smoke with elements of burnt tobacco. An abiding finish of smoke, dry spices, and banoffee pie sweetness. Close to perfection. Editor's Choice</td>\n",
       "    </tr>\n",
       "  </tbody>\n",
       "</table>\n",
       "</div>"
      ],
      "text/plain": [
       "   id                                           name               category  \\\n",
       "0   1  Black Bowmore 42 year old 1964 vintage, 40.5%     Single Malt Scotch   \n",
       "1   2    Bowmore 46 year old (distilled 1964), 42.9%     Single Malt Scotch   \n",
       "2   3                 Johnnie Walker Blue Label, 40%  Blended Scotch Whisky   \n",
       "\n",
       "   review.point  price currency  \\\n",
       "0            97   4500        $   \n",
       "1            97  13500        $   \n",
       "2            97    225        $   \n",
       "\n",
       "                                                                                                                                                                                                                                                                                                                                                                                                                                                                                                       description.1.2247.  \n",
       "0          What impresses me most is how this whisky evolves; it's incredibly complex. On the nose and palate, this is a thick, viscous, whisky with notes of sticky toffee, earthy oak, fig cake, roasted nuts, fallen fruit, pancake batter, black cherry, ripe peach, dark chocolate-covered espresso bean, polished leather, tobacco, a hint of wild game, and lingering, leafy damp kiln smoke. Flavors continue on the palate long after swallowing. This is what we all hope for (and dream of) in an older whisky!  \n",
       "1  There have been some legendary Bowmores from the mid-60s and this is every bit their equal. All of them share a remarkable aroma of tropical fruit, which here moves into hallucinatory intensity: guava, mango, peach, pineapple, grapefruit. There’s a very light touch of peat smoke, more a memory of Islay than the reality. Concentrated; even at low strength the palate is silky, heady, and haunting, and lasts forever in the dry glass. A legend is born. (Eight bottles only for the U.S.) Editor's Choice.  \n",
       "2                                                 Magnificently powerful and intense. Caramels, dried peats, elegant cigar smoke, seeds scraped from vanilla beans, brand new pencils, peppercorn, coriander seeds, and star anise make for a deeply satisfying nosing experience. Silky caramels, bountiful fruits of ripe peach, stewed apple, orange pith, and pervasive smoke with elements of burnt tobacco. An abiding finish of smoke, dry spices, and banoffee pie sweetness. Close to perfection. Editor's Choice  "
      ]
     },
     "execution_count": 1272,
     "metadata": {},
     "output_type": "execute_result"
    }
   ],
   "source": [
    "df=pd.read_csv(\"scotch_review2020.csv\")\n",
    "df.head(3) # preview dataframe"
   ]
  },
  {
   "cell_type": "markdown",
   "metadata": {},
   "source": [
    "#### 3. Assess Data"
   ]
  },
  {
   "cell_type": "code",
   "execution_count": 1273,
   "metadata": {},
   "outputs": [
    {
     "name": "stdout",
     "output_type": "stream",
     "text": [
      "<class 'pandas.core.frame.DataFrame'>\n",
      "RangeIndex: 2247 entries, 0 to 2246\n",
      "Data columns (total 7 columns):\n",
      " #   Column               Non-Null Count  Dtype \n",
      "---  ------               --------------  ----- \n",
      " 0   id                   2247 non-null   int64 \n",
      " 1   name                 2247 non-null   object\n",
      " 2   category             2247 non-null   object\n",
      " 3   review.point         2247 non-null   int64 \n",
      " 4   price                2247 non-null   object\n",
      " 5   currency             2247 non-null   object\n",
      " 6   description.1.2247.  2208 non-null   object\n",
      "dtypes: int64(2), object(5)\n",
      "memory usage: 123.0+ KB\n"
     ]
    }
   ],
   "source": [
    "df.info()"
   ]
  },
  {
   "cell_type": "markdown",
   "metadata": {},
   "source": [
    "A look at the dataframe's schema gives us this info: \n",
    "* The dataframe consists of 2247 observations and 7 columns.\n",
    "* There are no null values in the columns expect for the description.1.2247. column, it has 39 (2247-2208) observations that have null values. \n",
    "* The price column is read by Pandas as an object datatype and has to be converted to float datatype. \n",
    "* The column names for review.point and desciption.1.2247 does not seem to be consistent with other column names in the dataframe\n",
    "* The file can be optimized for memory by converting columns to more approporiate data types and removing columns that may not provide any value to analysis. "
   ]
  },
  {
   "cell_type": "code",
   "execution_count": 1274,
   "metadata": {},
   "outputs": [
    {
     "data": {
      "text/html": [
       "<div>\n",
       "<style scoped>\n",
       "    .dataframe tbody tr th:only-of-type {\n",
       "        vertical-align: middle;\n",
       "    }\n",
       "\n",
       "    .dataframe tbody tr th {\n",
       "        vertical-align: top;\n",
       "    }\n",
       "\n",
       "    .dataframe thead th {\n",
       "        text-align: right;\n",
       "    }\n",
       "</style>\n",
       "<table border=\"1\" class=\"dataframe\">\n",
       "  <thead>\n",
       "    <tr style=\"text-align: right;\">\n",
       "      <th></th>\n",
       "      <th>id</th>\n",
       "      <th>name</th>\n",
       "      <th>category</th>\n",
       "      <th>review.point</th>\n",
       "      <th>price</th>\n",
       "      <th>currency</th>\n",
       "      <th>description.1.2247.</th>\n",
       "    </tr>\n",
       "  </thead>\n",
       "  <tbody>\n",
       "    <tr>\n",
       "      <th>1948</th>\n",
       "      <td>1949</td>\n",
       "      <td>Edradour 1999 Natural Cask Strength cask #295, 58.4%</td>\n",
       "      <td>Single Malt Scotch</td>\n",
       "      <td>85</td>\n",
       "      <td>118</td>\n",
       "      <td>$</td>\n",
       "      <td>The Glasgow-based independent bottler Douglas Laing &amp; Co. Ltd. has been responsible for quite a number of releases from the ‘lost’ Lowland distillery of Rosebank, and this one was distilled during January 1990 and bottled in April 2012. The nose is pleasingly floral and fragrant, light and gently honeyed, with a suggestion of barley in the background. The palate features spicy, sweet orange, herbs, and a slightly contrasting note of citrus fruit. Spices persist into the warming, lightly-oaked finish. £135</td>\n",
       "    </tr>\n",
       "    <tr>\n",
       "      <th>1086</th>\n",
       "      <td>1087</td>\n",
       "      <td>Gordon &amp; MacPhail (distilled at Caol Ila) 15 year old, 40%</td>\n",
       "      <td>Single Malt Scotch</td>\n",
       "      <td>88</td>\n",
       "      <td>85</td>\n",
       "      <td>$</td>\n",
       "      <td>After initial maturation in bourbon casks, this expression underwent a 2-month finish in first-fill oloroso sherry casks. Initially it offers char, then ginger, honey, and sweet smoke on the nose, with apricot tarts and toffee. The palate is quite earthy and peppery, with stone fruit, cinnamon, sea salt, and light smokiness. Medium length in the finish, with citrus fruit and salty oak.</td>\n",
       "    </tr>\n",
       "    <tr>\n",
       "      <th>1097</th>\n",
       "      <td>1098</td>\n",
       "      <td>Scott's Selection (distilled at Highland Park) 1981 vintage, 50.6%</td>\n",
       "      <td>Single Malt Scotch</td>\n",
       "      <td>88</td>\n",
       "      <td>215</td>\n",
       "      <td>$</td>\n",
       "      <td>This breezy, coastal dram revels in aromas of lemon, pine needle, ozone, clotted cream, lavender, rock pools, and light peat smoke, though there’s no smoking Tommy gun. A good-weight dram with bitter lemon, royal icing, vanilla, and toffee, plus assertive pepper, oak char, and burnt sugar that pummel away like a street fighter, finally calming to an olive oil finish. This is a proper Islay whisky, if you dare. (U.S. Exclusive; 2,000 bottles).</td>\n",
       "    </tr>\n",
       "  </tbody>\n",
       "</table>\n",
       "</div>"
      ],
      "text/plain": [
       "        id  \\\n",
       "1948  1949   \n",
       "1086  1087   \n",
       "1097  1098   \n",
       "\n",
       "                                                                    name  \\\n",
       "1948                Edradour 1999 Natural Cask Strength cask #295, 58.4%   \n",
       "1086          Gordon & MacPhail (distilled at Caol Ila) 15 year old, 40%   \n",
       "1097  Scott's Selection (distilled at Highland Park) 1981 vintage, 50.6%   \n",
       "\n",
       "                category  review.point price currency  \\\n",
       "1948  Single Malt Scotch            85   118        $   \n",
       "1086  Single Malt Scotch            88    85        $   \n",
       "1097  Single Malt Scotch            88   215        $   \n",
       "\n",
       "                                                                                                                                                                                                                                                                                                                                                                                                                                                                                                                 description.1.2247.  \n",
       "1948  The Glasgow-based independent bottler Douglas Laing & Co. Ltd. has been responsible for quite a number of releases from the ‘lost’ Lowland distillery of Rosebank, and this one was distilled during January 1990 and bottled in April 2012. The nose is pleasingly floral and fragrant, light and gently honeyed, with a suggestion of barley in the background. The palate features spicy, sweet orange, herbs, and a slightly contrasting note of citrus fruit. Spices persist into the warming, lightly-oaked finish. £135  \n",
       "1086                                                                                                                            After initial maturation in bourbon casks, this expression underwent a 2-month finish in first-fill oloroso sherry casks. Initially it offers char, then ginger, honey, and sweet smoke on the nose, with apricot tarts and toffee. The palate is quite earthy and peppery, with stone fruit, cinnamon, sea salt, and light smokiness. Medium length in the finish, with citrus fruit and salty oak.  \n",
       "1097                                                                  This breezy, coastal dram revels in aromas of lemon, pine needle, ozone, clotted cream, lavender, rock pools, and light peat smoke, though there’s no smoking Tommy gun. A good-weight dram with bitter lemon, royal icing, vanilla, and toffee, plus assertive pepper, oak char, and burnt sugar that pummel away like a street fighter, finally calming to an olive oil finish. This is a proper Islay whisky, if you dare. (U.S. Exclusive; 2,000 bottles).  "
      ]
     },
     "execution_count": 1274,
     "metadata": {},
     "output_type": "execute_result"
    }
   ],
   "source": [
    "# Display a sample of the dataframe\n",
    "df.sample(3)"
   ]
  },
  {
   "cell_type": "code",
   "execution_count": 1275,
   "metadata": {},
   "outputs": [
    {
     "data": {
      "text/plain": [
       "0                 Black Bowmore 42 year old 1964 vintage, 40.5%\n",
       "1                   Bowmore 46 year old (distilled 1964), 42.9%\n",
       "2                                Johnnie Walker Blue Label, 40%\n",
       "3               Glenlivet Cellar Collection 1969 vintage, 50.8%\n",
       "4    The Macallan 29 year old 1976 Vintage (Cask #11354), 45.4%\n",
       "5                                The Dalmore 50 year old, 52.8%\n",
       "6                             Gold Bowmore 1964 vintage, 42.4% \n",
       "7                                    Bowmore 40 year old, 44.8%\n",
       "8                                Compass Box The General, 53.4%\n",
       "9             Glenfarclas Family Casks 1954 (Cask #1260), 47.2%\n",
       "Name: name, dtype: object"
      ]
     },
     "execution_count": 1275,
     "metadata": {},
     "output_type": "execute_result"
    }
   ],
   "source": [
    "# display the values in the name column\n",
    "pd.set_option('display.max_colwidth', None)\n",
    "df[\"name\"].head(10)"
   ]
  },
  {
   "cell_type": "code",
   "execution_count": 1276,
   "metadata": {},
   "outputs": [
    {
     "data": {
      "text/plain": [
       "116"
      ]
     },
     "execution_count": 1276,
     "metadata": {},
     "output_type": "execute_result"
    }
   ],
   "source": [
    "# check for duplicates in the whiskey name column\n",
    "df.duplicated(subset=[\"name\"],keep = False).sum()"
   ]
  },
  {
   "cell_type": "code",
   "execution_count": 1277,
   "metadata": {},
   "outputs": [
    {
     "data": {
      "text/plain": [
       "Single Malt Scotch            1835\n",
       "Blended Scotch Whisky          247\n",
       "Blended Malt Scotch Whisky     165\n",
       "Name: category, dtype: int64"
      ]
     },
     "execution_count": 1277,
     "metadata": {},
     "output_type": "execute_result"
    }
   ],
   "source": [
    "# count the number of values in the category column\n",
    "df[\"category\"].value_counts()"
   ]
  },
  {
   "cell_type": "markdown",
   "metadata": {},
   "source": [
    "Taking a closer look at the observations we can deduce that\n",
    "* The id column  and the currency column can be dropped without any loss of details; they do not provide any value for analysis. \n",
    "* The name column has much more info than just the whiskey's name; there is abv percentage, age statement, if cask strength is used and if it is from a single cask\n",
    "* The name column has 116 duplicates.\n",
    "* The category column has three types of categories for its values"
   ]
  },
  {
   "cell_type": "markdown",
   "metadata": {},
   "source": [
    "#### 4. Cleaning, conversions and optimization"
   ]
  },
  {
   "cell_type": "code",
   "execution_count": 1278,
   "metadata": {},
   "outputs": [
    {
     "name": "stdout",
     "output_type": "stream",
     "text": [
      "<class 'pandas.core.frame.DataFrame'>\n",
      "RangeIndex: 2247 entries, 0 to 2246\n",
      "Data columns (total 7 columns):\n",
      " #   Column               Non-Null Count  Dtype \n",
      "---  ------               --------------  ----- \n",
      " 0   id                   2247 non-null   int64 \n",
      " 1   name                 2247 non-null   object\n",
      " 2   category             2247 non-null   object\n",
      " 3   review.point         2247 non-null   int64 \n",
      " 4   price                2247 non-null   object\n",
      " 5   currency             2247 non-null   object\n",
      " 6   description.1.2247.  2208 non-null   object\n",
      "dtypes: int64(2), object(5)\n",
      "memory usage: 123.0+ KB\n"
     ]
    }
   ],
   "source": [
    "df.info()"
   ]
  },
  {
   "cell_type": "markdown",
   "metadata": {},
   "source": [
    "<span style ='color:green'>The dataframe currently uses 123 KB of memory , we can optimize it for memory by using appropriate data types and dropping columns deemed unnecessary for analysis </span>"
   ]
  },
  {
   "cell_type": "code",
   "execution_count": 1279,
   "metadata": {},
   "outputs": [
    {
     "data": {
      "text/plain": [
       "$    2247\n",
       "Name: currency, dtype: int64"
      ]
     },
     "execution_count": 1279,
     "metadata": {},
     "output_type": "execute_result"
    }
   ],
   "source": [
    "# look for count of values in currency column\n",
    "df[\"currency\"].value_counts()"
   ]
  },
  {
   "cell_type": "markdown",
   "metadata": {},
   "source": [
    "* <span style ='color:green'>The currency column has only one value; the \"$\" sign. Dropping the currency column will not cause any loss in details.</span>\n",
    "\n",
    "* <span style ='color:green'>To compensate for removing the currency column we can use a more descriptive name for the price column and rename it as price_usd.</span>\n",
    "\n",
    "* <span style ='color:green'>We have a numeric index created by pandas for our dataframe , we can also safely drop id column and not loose any details. </span>"
   ]
  },
  {
   "cell_type": "markdown",
   "metadata": {},
   "source": [
    "Dropping and renaming columns"
   ]
  },
  {
   "cell_type": "code",
   "execution_count": 1280,
   "metadata": {},
   "outputs": [],
   "source": [
    "# drop the id and currency columns\n",
    "df=df.drop(columns=[\"id\",\"currency\"])"
   ]
  },
  {
   "cell_type": "code",
   "execution_count": 1281,
   "metadata": {},
   "outputs": [
    {
     "data": {
      "text/html": [
       "<div>\n",
       "<style scoped>\n",
       "    .dataframe tbody tr th:only-of-type {\n",
       "        vertical-align: middle;\n",
       "    }\n",
       "\n",
       "    .dataframe tbody tr th {\n",
       "        vertical-align: top;\n",
       "    }\n",
       "\n",
       "    .dataframe thead th {\n",
       "        text-align: right;\n",
       "    }\n",
       "</style>\n",
       "<table border=\"1\" class=\"dataframe\">\n",
       "  <thead>\n",
       "    <tr style=\"text-align: right;\">\n",
       "      <th></th>\n",
       "      <th>name</th>\n",
       "      <th>category</th>\n",
       "      <th>points</th>\n",
       "      <th>price_usd</th>\n",
       "      <th>review</th>\n",
       "    </tr>\n",
       "  </thead>\n",
       "  <tbody>\n",
       "    <tr>\n",
       "      <th>0</th>\n",
       "      <td>Black Bowmore 42 year old 1964 vintage, 40.5%</td>\n",
       "      <td>Single Malt Scotch</td>\n",
       "      <td>97</td>\n",
       "      <td>4500</td>\n",
       "      <td>What impresses me most is how this whisky evolves; it's incredibly complex. On the nose and palate, this is a thick, viscous, whisky with notes of sticky toffee, earthy oak, fig cake, roasted nuts, fallen fruit, pancake batter, black cherry, ripe peach, dark chocolate-covered espresso bean, polished leather, tobacco, a hint of wild game, and lingering, leafy damp kiln smoke. Flavors continue on the palate long after swallowing. This is what we all hope for (and dream of) in an older whisky!</td>\n",
       "    </tr>\n",
       "    <tr>\n",
       "      <th>1</th>\n",
       "      <td>Bowmore 46 year old (distilled 1964), 42.9%</td>\n",
       "      <td>Single Malt Scotch</td>\n",
       "      <td>97</td>\n",
       "      <td>13500</td>\n",
       "      <td>There have been some legendary Bowmores from the mid-60s and this is every bit their equal. All of them share a remarkable aroma of tropical fruit, which here moves into hallucinatory intensity: guava, mango, peach, pineapple, grapefruit. There’s a very light touch of peat smoke, more a memory of Islay than the reality. Concentrated; even at low strength the palate is silky, heady, and haunting, and lasts forever in the dry glass. A legend is born. (Eight bottles only for the U.S.) Editor's Choice.</td>\n",
       "    </tr>\n",
       "  </tbody>\n",
       "</table>\n",
       "</div>"
      ],
      "text/plain": [
       "                                            name            category  points  \\\n",
       "0  Black Bowmore 42 year old 1964 vintage, 40.5%  Single Malt Scotch      97   \n",
       "1    Bowmore 46 year old (distilled 1964), 42.9%  Single Malt Scotch      97   \n",
       "\n",
       "  price_usd  \\\n",
       "0      4500   \n",
       "1     13500   \n",
       "\n",
       "                                                                                                                                                                                                                                                                                                                                                                                                                                                                                                                    review  \n",
       "0          What impresses me most is how this whisky evolves; it's incredibly complex. On the nose and palate, this is a thick, viscous, whisky with notes of sticky toffee, earthy oak, fig cake, roasted nuts, fallen fruit, pancake batter, black cherry, ripe peach, dark chocolate-covered espresso bean, polished leather, tobacco, a hint of wild game, and lingering, leafy damp kiln smoke. Flavors continue on the palate long after swallowing. This is what we all hope for (and dream of) in an older whisky!  \n",
       "1  There have been some legendary Bowmores from the mid-60s and this is every bit their equal. All of them share a remarkable aroma of tropical fruit, which here moves into hallucinatory intensity: guava, mango, peach, pineapple, grapefruit. There’s a very light touch of peat smoke, more a memory of Islay than the reality. Concentrated; even at low strength the palate is silky, heady, and haunting, and lasts forever in the dry glass. A legend is born. (Eight bottles only for the U.S.) Editor's Choice.  "
      ]
     },
     "execution_count": 1281,
     "metadata": {},
     "output_type": "execute_result"
    }
   ],
   "source": [
    "# rename price column to price_usd and descrption.1.2247. to review and review.point to points\n",
    "df=df.rename(columns={\"price\":\"price_usd\",\"description.1.2247.\":\"review\",\"review.point\":\"points\"})\n",
    "df.head(2)"
   ]
  },
  {
   "cell_type": "markdown",
   "metadata": {},
   "source": [
    "Converting datatypes of columns"
   ]
  },
  {
   "cell_type": "code",
   "execution_count": 1282,
   "metadata": {},
   "outputs": [
    {
     "data": {
      "text/plain": [
       "Single Malt Scotch            1835\n",
       "Blended Scotch Whisky          247\n",
       "Blended Malt Scotch Whisky     165\n",
       "Name: category, dtype: int64"
      ]
     },
     "execution_count": 1282,
     "metadata": {},
     "output_type": "execute_result"
    }
   ],
   "source": [
    "df[\"category\"].value_counts()"
   ]
  },
  {
   "cell_type": "markdown",
   "metadata": {},
   "source": [
    "<span style ='color:green'>We have just three categories so converting this column to category datatype will save us memory </span>"
   ]
  },
  {
   "cell_type": "code",
   "execution_count": 1283,
   "metadata": {},
   "outputs": [],
   "source": [
    "df[\"category\"]=df[\"category\"].astype(\"category\")"
   ]
  },
  {
   "cell_type": "code",
   "execution_count": 1284,
   "metadata": {},
   "outputs": [
    {
     "data": {
      "text/plain": [
       "100       86\n",
       "65        78\n",
       "70        61\n",
       "60        57\n",
       "80        57\n",
       "          ..\n",
       "4,350      1\n",
       "12,500     1\n",
       "245        1\n",
       "6,000      1\n",
       "440        1\n",
       "Name: price_usd, Length: 474, dtype: int64"
      ]
     },
     "execution_count": 1284,
     "metadata": {},
     "output_type": "execute_result"
    }
   ],
   "source": [
    "df[\"price_usd\"].value_counts()"
   ]
  },
  {
   "cell_type": "markdown",
   "metadata": {},
   "source": [
    "<span style ='color:green'>We can see some aplhanumeric characters in the values of the price column. We need to convert all the values to numeric before we can change the datatype </span>"
   ]
  },
  {
   "cell_type": "code",
   "execution_count": 1285,
   "metadata": {},
   "outputs": [],
   "source": [
    "# Remove any ',' and '$' signs from the values in the price_usd column\n",
    "df[\"price_usd\"] = df[\"price_usd\"].replace('[\\$,]', '', regex=True)"
   ]
  },
  {
   "cell_type": "code",
   "execution_count": 1286,
   "metadata": {},
   "outputs": [
    {
     "data": {
      "text/plain": [
       "33      15000 or 60000/set\n",
       "92              150/375ml.\n",
       "94               50/375ml.\n",
       "186              60000/set\n",
       "359              50/375ml.\n",
       "739              60000/set\n",
       "778             100/375ml.\n",
       "1010              44/liter\n",
       "1280            132/700ml.\n",
       "1548             60000/set\n",
       "1814             60000/set\n",
       "1825         39/1.75 liter\n",
       "2027              35/liter\n",
       "2200         18/1.75 liter\n",
       "Name: price_usd, dtype: object"
      ]
     },
     "execution_count": 1286,
     "metadata": {},
     "output_type": "execute_result"
    }
   ],
   "source": [
    "# Find if there are still any non numeric values in the price_usd column\n",
    "price_not_numeric = pd.to_numeric(df[\"price_usd\"], errors = 'coerce').isnull()\n",
    "df[price_not_numeric][\"price_usd\"]"
   ]
  },
  {
   "cell_type": "code",
   "execution_count": 1287,
   "metadata": {},
   "outputs": [],
   "source": [
    "# Regular scotch whiskey bottle sizes are normally 750 ml and a set is 4 bottles. \n",
    "# We need to calculate the prices that are not per 750 ml to the standard bottle size (750 ml)\n",
    "df.loc[[33, 186,739, 1548, 1814], \"price_usd\"] = 15000 \n",
    "df.loc[[92], \"price_usd\"]=150*2\n",
    "df.loc[[94], \"price_usd\"]= 50*2\n",
    "df.loc[[359], \"price_usd\"]= 50*2\n",
    "df.loc[[778], \"price_usd\"]=100*2\n",
    "df.loc[[1010], \"price_usd\"]=44*(750/1000)\n",
    "df.loc[[1280], \"price_usd\"]=132*(750/700)\n",
    "df.loc[[1825], \"price_usd\"]=39*(750/1750)\n",
    "df.loc[[2027], \"price_usd\"]=35*(750/1000)\n",
    "df.loc[[2200], \"price_usd\"]=18*(750/1750)"
   ]
  },
  {
   "cell_type": "code",
   "execution_count": 1288,
   "metadata": {},
   "outputs": [],
   "source": [
    "# Convert the price_usd column to int datatype\n",
    "df[\"price_usd\"] =df[\"price_usd\"].astype(int)"
   ]
  },
  {
   "cell_type": "markdown",
   "metadata": {},
   "source": [
    "Remove duplicates in name column "
   ]
  },
  {
   "cell_type": "code",
   "execution_count": 1289,
   "metadata": {},
   "outputs": [
    {
     "data": {
      "text/plain": [
       "116"
      ]
     },
     "execution_count": 1289,
     "metadata": {},
     "output_type": "execute_result"
    }
   ],
   "source": [
    "duplicate_names=df.duplicated(subset=[\"name\"],keep = False)\n",
    "duplicate_names.sum()"
   ]
  },
  {
   "cell_type": "markdown",
   "metadata": {},
   "source": [
    "<span style = \"color:green\">There are 116 duplicates in the name column, we need to drop the dupes. We can drop duplicates that have lowest points and keep the ones with higher points </span>"
   ]
  },
  {
   "cell_type": "code",
   "execution_count": 1290,
   "metadata": {},
   "outputs": [
    {
     "data": {
      "text/html": [
       "<div>\n",
       "<style scoped>\n",
       "    .dataframe tbody tr th:only-of-type {\n",
       "        vertical-align: middle;\n",
       "    }\n",
       "\n",
       "    .dataframe tbody tr th {\n",
       "        vertical-align: top;\n",
       "    }\n",
       "\n",
       "    .dataframe thead th {\n",
       "        text-align: right;\n",
       "    }\n",
       "</style>\n",
       "<table border=\"1\" class=\"dataframe\">\n",
       "  <thead>\n",
       "    <tr style=\"text-align: right;\">\n",
       "      <th></th>\n",
       "      <th>name</th>\n",
       "      <th>category</th>\n",
       "      <th>points</th>\n",
       "      <th>price_usd</th>\n",
       "      <th>review</th>\n",
       "    </tr>\n",
       "  </thead>\n",
       "  <tbody>\n",
       "    <tr>\n",
       "      <th>0</th>\n",
       "      <td>Black Bowmore 42 year old 1964 vintage, 40.5%</td>\n",
       "      <td>Single Malt Scotch</td>\n",
       "      <td>97</td>\n",
       "      <td>4500</td>\n",
       "      <td>What impresses me most is how this whisky evolves; it's incredibly complex. On the nose and palate, this is a thick, viscous, whisky with notes of sticky toffee, earthy oak, fig cake, roasted nuts, fallen fruit, pancake batter, black cherry, ripe peach, dark chocolate-covered espresso bean, polished leather, tobacco, a hint of wild game, and lingering, leafy damp kiln smoke. Flavors continue on the palate long after swallowing. This is what we all hope for (and dream of) in an older whisky!</td>\n",
       "    </tr>\n",
       "    <tr>\n",
       "      <th>2</th>\n",
       "      <td>Johnnie Walker Blue Label, 40%</td>\n",
       "      <td>Blended Scotch Whisky</td>\n",
       "      <td>97</td>\n",
       "      <td>225</td>\n",
       "      <td>Magnificently powerful and intense. Caramels, dried peats, elegant cigar smoke, seeds scraped from vanilla beans, brand new pencils, peppercorn, coriander seeds, and star anise make for a deeply satisfying nosing experience. Silky caramels, bountiful fruits of ripe peach, stewed apple, orange pith, and pervasive smoke with elements of burnt tobacco. An abiding finish of smoke, dry spices, and banoffee pie sweetness. Close to perfection. Editor's Choice</td>\n",
       "    </tr>\n",
       "    <tr>\n",
       "      <th>1</th>\n",
       "      <td>Bowmore 46 year old (distilled 1964), 42.9%</td>\n",
       "      <td>Single Malt Scotch</td>\n",
       "      <td>97</td>\n",
       "      <td>13500</td>\n",
       "      <td>There have been some legendary Bowmores from the mid-60s and this is every bit their equal. All of them share a remarkable aroma of tropical fruit, which here moves into hallucinatory intensity: guava, mango, peach, pineapple, grapefruit. There’s a very light touch of peat smoke, more a memory of Islay than the reality. Concentrated; even at low strength the palate is silky, heady, and haunting, and lasts forever in the dry glass. A legend is born. (Eight bottles only for the U.S.) Editor's Choice.</td>\n",
       "    </tr>\n",
       "    <tr>\n",
       "      <th>7</th>\n",
       "      <td>Bowmore 40 year old, 44.8%</td>\n",
       "      <td>Single Malt Scotch</td>\n",
       "      <td>96</td>\n",
       "      <td>11000</td>\n",
       "      <td>Definitely showing its age, but not in a bad way — the distillery character is still there. Solid foundation of thick, chewy toffee, old pot still rum, and fig cake. Fruity too, with notes of golden raisin and nectarine. Soft, seductive peat smoke, juicy oak, cinnamon, and brine round out the palate. Excellent balance! One of the finest Bowmore whiskies I’ve ever tasted (and, at this price, will probably never taste again.) (Editor's Pick)</td>\n",
       "    </tr>\n",
       "    <tr>\n",
       "      <th>10</th>\n",
       "      <td>Chivas Regal Ultis, 40%</td>\n",
       "      <td>Blended Malt Scotch Whisky</td>\n",
       "      <td>96</td>\n",
       "      <td>160</td>\n",
       "      <td>Captivating, enticing, and wonderfully charming, this first blended malt from Chivas Regal contains selections of five Speyside malts: Strathisla, Longmorn, Tormore, Allt-a-Bhainne, and Braeval. Red apple, cherry, raspberry fudge, peach and mango fruit salad, dusting of cinnamon, and dry heather sprigs. In essence, it’s rich and satisfying, with dark vanilla, apricot, Bourneville-covered Brazil nuts, and tangerine, smoothed over by caramel and wood spices, maltiness, and gingersnap biscuits. Quite heavenly. Editor's Choice</td>\n",
       "    </tr>\n",
       "  </tbody>\n",
       "</table>\n",
       "</div>"
      ],
      "text/plain": [
       "                                             name                    category  \\\n",
       "0   Black Bowmore 42 year old 1964 vintage, 40.5%          Single Malt Scotch   \n",
       "2                  Johnnie Walker Blue Label, 40%       Blended Scotch Whisky   \n",
       "1     Bowmore 46 year old (distilled 1964), 42.9%          Single Malt Scotch   \n",
       "7                      Bowmore 40 year old, 44.8%          Single Malt Scotch   \n",
       "10                        Chivas Regal Ultis, 40%  Blended Malt Scotch Whisky   \n",
       "\n",
       "    points  price_usd  \\\n",
       "0       97       4500   \n",
       "2       97        225   \n",
       "1       97      13500   \n",
       "7       96      11000   \n",
       "10      96        160   \n",
       "\n",
       "                                                                                                                                                                                                                                                                                                                                                                                                                                                                                                                                              review  \n",
       "0                                    What impresses me most is how this whisky evolves; it's incredibly complex. On the nose and palate, this is a thick, viscous, whisky with notes of sticky toffee, earthy oak, fig cake, roasted nuts, fallen fruit, pancake batter, black cherry, ripe peach, dark chocolate-covered espresso bean, polished leather, tobacco, a hint of wild game, and lingering, leafy damp kiln smoke. Flavors continue on the palate long after swallowing. This is what we all hope for (and dream of) in an older whisky!  \n",
       "2                                                                           Magnificently powerful and intense. Caramels, dried peats, elegant cigar smoke, seeds scraped from vanilla beans, brand new pencils, peppercorn, coriander seeds, and star anise make for a deeply satisfying nosing experience. Silky caramels, bountiful fruits of ripe peach, stewed apple, orange pith, and pervasive smoke with elements of burnt tobacco. An abiding finish of smoke, dry spices, and banoffee pie sweetness. Close to perfection. Editor's Choice  \n",
       "1                            There have been some legendary Bowmores from the mid-60s and this is every bit their equal. All of them share a remarkable aroma of tropical fruit, which here moves into hallucinatory intensity: guava, mango, peach, pineapple, grapefruit. There’s a very light touch of peat smoke, more a memory of Islay than the reality. Concentrated; even at low strength the palate is silky, heady, and haunting, and lasts forever in the dry glass. A legend is born. (Eight bottles only for the U.S.) Editor's Choice.  \n",
       "7                                                                                       Definitely showing its age, but not in a bad way — the distillery character is still there. Solid foundation of thick, chewy toffee, old pot still rum, and fig cake. Fruity too, with notes of golden raisin and nectarine. Soft, seductive peat smoke, juicy oak, cinnamon, and brine round out the palate. Excellent balance! One of the finest Bowmore whiskies I’ve ever tasted (and, at this price, will probably never taste again.) (Editor's Pick)   \n",
       "10  Captivating, enticing, and wonderfully charming, this first blended malt from Chivas Regal contains selections of five Speyside malts: Strathisla, Longmorn, Tormore, Allt-a-Bhainne, and Braeval. Red apple, cherry, raspberry fudge, peach and mango fruit salad, dusting of cinnamon, and dry heather sprigs. In essence, it’s rich and satisfying, with dark vanilla, apricot, Bourneville-covered Brazil nuts, and tangerine, smoothed over by caramel and wood spices, maltiness, and gingersnap biscuits. Quite heavenly. Editor's Choice  "
      ]
     },
     "execution_count": 1290,
     "metadata": {},
     "output_type": "execute_result"
    }
   ],
   "source": [
    "# Sort df by points descending \n",
    "points_sorted_df = df.sort_values(by=\"points\",ascending=False)\n",
    "points_sorted_df.head()"
   ]
  },
  {
   "cell_type": "code",
   "execution_count": 1291,
   "metadata": {},
   "outputs": [],
   "source": [
    "# Remove duplicates from the sorted df keeping the ones with higer points\n",
    "df=points_sorted_df.drop_duplicates(subset='name', keep='first')"
   ]
  },
  {
   "cell_type": "code",
   "execution_count": 1292,
   "metadata": {},
   "outputs": [],
   "source": [
    "# reset index to remove gaps in the index range\n",
    "#df.reset_index(drop=\"index\")"
   ]
  },
  {
   "cell_type": "code",
   "execution_count": 1293,
   "metadata": {},
   "outputs": [
    {
     "name": "stdout",
     "output_type": "stream",
     "text": [
      "<class 'pandas.core.frame.DataFrame'>\n",
      "Int64Index: 2187 entries, 0 to 2246\n",
      "Data columns (total 5 columns):\n",
      " #   Column     Non-Null Count  Dtype   \n",
      "---  ------     --------------  -----   \n",
      " 0   name       2187 non-null   object  \n",
      " 1   category   2187 non-null   category\n",
      " 2   points     2187 non-null   int64   \n",
      " 3   price_usd  2187 non-null   int32   \n",
      " 4   review     2149 non-null   object  \n",
      "dtypes: category(1), int32(1), int64(1), object(2)\n",
      "memory usage: 79.2+ KB\n"
     ]
    }
   ],
   "source": [
    "# check to see the dataframe schema and stats\n",
    "df.info()"
   ]
  },
  {
   "cell_type": "markdown",
   "metadata": {},
   "source": [
    "<span style= \"color:green\"> The columns now have the right data types and memory usage is reduced from 123 KB to 79 KB, duplicate names have been removed and unnecessary columns have been dropped </span>"
   ]
  },
  {
   "cell_type": "markdown",
   "metadata": {},
   "source": [
    "#### 5. Transformations (Creating new columns from existing columns  )"
   ]
  },
  {
   "cell_type": "markdown",
   "metadata": {},
   "source": [
    "##### 5.1 Extract ABV from whiskey's label"
   ]
  },
  {
   "cell_type": "code",
   "execution_count": 1294,
   "metadata": {},
   "outputs": [
    {
     "name": "stderr",
     "output_type": "stream",
     "text": [
      "C:\\Users\\149300\\AppData\\Local\\Temp\\ipykernel_15712\\4088647496.py:3: FutureWarning: The default value of regex will change from True to False in a future version.\n",
      "  df[\"abv%\"] = df[\"abv%\"].str.replace(\"[^\\d\\.]\", \"\")\n"
     ]
    }
   ],
   "source": [
    "# Use name column values to extract Alcohol By Volume % (ABV)\n",
    "df[\"abv%\"] = df[\"name\"].str.extract(r\"([\\(\\,\\,\\'\\\"\\’\\”\\$] ? ?\\d+(\\.\\d+)?%)\")[0]\n",
    "df[\"abv%\"] = df[\"abv%\"].str.replace(\"[^\\d\\.]\", \"\")"
   ]
  },
  {
   "cell_type": "code",
   "execution_count": 1295,
   "metadata": {},
   "outputs": [
    {
     "data": {
      "text/html": [
       "<div>\n",
       "<style scoped>\n",
       "    .dataframe tbody tr th:only-of-type {\n",
       "        vertical-align: middle;\n",
       "    }\n",
       "\n",
       "    .dataframe tbody tr th {\n",
       "        vertical-align: top;\n",
       "    }\n",
       "\n",
       "    .dataframe thead th {\n",
       "        text-align: right;\n",
       "    }\n",
       "</style>\n",
       "<table border=\"1\" class=\"dataframe\">\n",
       "  <thead>\n",
       "    <tr style=\"text-align: right;\">\n",
       "      <th></th>\n",
       "      <th>name</th>\n",
       "      <th>category</th>\n",
       "      <th>points</th>\n",
       "      <th>price_usd</th>\n",
       "      <th>review</th>\n",
       "      <th>abv%</th>\n",
       "    </tr>\n",
       "  </thead>\n",
       "  <tbody>\n",
       "    <tr>\n",
       "      <th>1619</th>\n",
       "      <td>Peerless (distilled at Glenrothes) 1967, 35 year old, 40.5%</td>\n",
       "      <td>Single Malt Scotch</td>\n",
       "      <td>86</td>\n",
       "      <td>135</td>\n",
       "      <td>Ripe peaches, vanilla, sweet oak, and milky coffee on the nose. The palate is luscious and smooth, with sweet orange notes and cinnamon. The finish is medium in length, with spicy berry fruits, oak, and lingering ginger.</td>\n",
       "      <td>40.5</td>\n",
       "    </tr>\n",
       "    <tr>\n",
       "      <th>2006</th>\n",
       "      <td>Ledaig 18 year old, 46.3%</td>\n",
       "      <td>Single Malt Scotch</td>\n",
       "      <td>85</td>\n",
       "      <td>115</td>\n",
       "      <td>This Jura expression was distilled in 1984 and matured in bourbon casks for 22 years before a further 6 years in Gonzalez Byass Matusalem sherry butts and 2 years in Amoroso and Apostoles oloroso sherry casks. The nose opens with beef gravy, soon followed by prunes, cherries, dark chocolate, and PX sherry. Full-bodied, rich and sweet on the palate, with lively spices, and more cherries, and chocolate. Long and fruity in the finish, with spicy sherry and licorice. £750</td>\n",
       "      <td>46.3</td>\n",
       "    </tr>\n",
       "    <tr>\n",
       "      <th>1072</th>\n",
       "      <td>Monkey Shoulder Smokey Monkey, 40%</td>\n",
       "      <td>Blended Scotch Whisky</td>\n",
       "      <td>89</td>\n",
       "      <td>41</td>\n",
       "      <td>This rich, smooth, and enticing blend first launched in 1976. It offers aromas of barley, malt, honey, praline cookies, vanilla seed, and smoke. The palate is bright with honey, citrus zest, Quaker Oat Crisp, graham cracker, and vanilla fudge, with gentle pepper, hot cross bun, and orange notes appearing as it becomes creamier. Orange, barley notes, and smoke dance off into the finish.</td>\n",
       "      <td>40</td>\n",
       "    </tr>\n",
       "    <tr>\n",
       "      <th>48</th>\n",
       "      <td>Highland Park  1977 vintage 29 year old (Cask #7957), 48.5%</td>\n",
       "      <td>Single Malt Scotch</td>\n",
       "      <td>94</td>\n",
       "      <td>300</td>\n",
       "      <td>A delicious, well-balanced, ultra-matured expression of Highland Park. Toffee apples, molasses, and vanilla fudge provide a sweet foundation, with evolving notes of dark chocolate, dry spicy oak, tobacco, subtle smoke, and lingering brine on the finish. Nicely done. (Bottled for Old Oaks Cigar &amp; Wine Company)</td>\n",
       "      <td>48.5</td>\n",
       "    </tr>\n",
       "    <tr>\n",
       "      <th>1566</th>\n",
       "      <td>ScotchMe!, 44.4%</td>\n",
       "      <td>Blended Malt Scotch Whisky</td>\n",
       "      <td>87</td>\n",
       "      <td>34</td>\n",
       "      <td>Distilled in June 2007 and bottled in October 2016, this expression spent 6 years in first-fill bourbon casks, then 3 years in Barolo wine casks. Fresh on the early nose; herbaceous, with pineapple and a hint of oil. Big in the mouth, with white pepper, more pineapple, dried fruits, and coconut milk. Drying to tannins, with dark berries in the lengthy, minty finish. (10,800 bottles)</td>\n",
       "      <td>44.4</td>\n",
       "    </tr>\n",
       "  </tbody>\n",
       "</table>\n",
       "</div>"
      ],
      "text/plain": [
       "                                                             name  \\\n",
       "1619  Peerless (distilled at Glenrothes) 1967, 35 year old, 40.5%   \n",
       "2006                                    Ledaig 18 year old, 46.3%   \n",
       "1072                           Monkey Shoulder Smokey Monkey, 40%   \n",
       "48    Highland Park  1977 vintage 29 year old (Cask #7957), 48.5%   \n",
       "1566                                             ScotchMe!, 44.4%   \n",
       "\n",
       "                        category  points  price_usd  \\\n",
       "1619          Single Malt Scotch      86        135   \n",
       "2006          Single Malt Scotch      85        115   \n",
       "1072       Blended Scotch Whisky      89         41   \n",
       "48            Single Malt Scotch      94        300   \n",
       "1566  Blended Malt Scotch Whisky      87         34   \n",
       "\n",
       "                                                                                                                                                                                                                                                                                                                                                                                                                                                                                        review  \\\n",
       "1619                                                                                                                                                                                                                                                              Ripe peaches, vanilla, sweet oak, and milky coffee on the nose. The palate is luscious and smooth, with sweet orange notes and cinnamon. The finish is medium in length, with spicy berry fruits, oak, and lingering ginger.   \n",
       "2006  This Jura expression was distilled in 1984 and matured in bourbon casks for 22 years before a further 6 years in Gonzalez Byass Matusalem sherry butts and 2 years in Amoroso and Apostoles oloroso sherry casks. The nose opens with beef gravy, soon followed by prunes, cherries, dark chocolate, and PX sherry. Full-bodied, rich and sweet on the palate, with lively spices, and more cherries, and chocolate. Long and fruity in the finish, with spicy sherry and licorice. £750   \n",
       "1072                                                                                      This rich, smooth, and enticing blend first launched in 1976. It offers aromas of barley, malt, honey, praline cookies, vanilla seed, and smoke. The palate is bright with honey, citrus zest, Quaker Oat Crisp, graham cracker, and vanilla fudge, with gentle pepper, hot cross bun, and orange notes appearing as it becomes creamier. Orange, barley notes, and smoke dance off into the finish.   \n",
       "48                                                                                                                                                                      A delicious, well-balanced, ultra-matured expression of Highland Park. Toffee apples, molasses, and vanilla fudge provide a sweet foundation, with evolving notes of dark chocolate, dry spicy oak, tobacco, subtle smoke, and lingering brine on the finish. Nicely done. (Bottled for Old Oaks Cigar & Wine Company)   \n",
       "1566                                                                                         Distilled in June 2007 and bottled in October 2016, this expression spent 6 years in first-fill bourbon casks, then 3 years in Barolo wine casks. Fresh on the early nose; herbaceous, with pineapple and a hint of oil. Big in the mouth, with white pepper, more pineapple, dried fruits, and coconut milk. Drying to tannins, with dark berries in the lengthy, minty finish. (10,800 bottles)   \n",
       "\n",
       "      abv%  \n",
       "1619  40.5  \n",
       "2006  46.3  \n",
       "1072    40  \n",
       "48    48.5  \n",
       "1566  44.4  "
      ]
     },
     "execution_count": 1295,
     "metadata": {},
     "output_type": "execute_result"
    }
   ],
   "source": [
    "df.sample(5, random_state=8)"
   ]
  },
  {
   "cell_type": "markdown",
   "metadata": {},
   "source": [
    "##### 5.2 Extract Year from whiskey's label"
   ]
  },
  {
   "cell_type": "code",
   "execution_count": 1296,
   "metadata": {},
   "outputs": [],
   "source": [
    "# Use name column values to extract label year\n",
    "df[\"year\"]=df.name.str.extract(r'( 19\\d{2}|20\\d{2})')"
   ]
  },
  {
   "cell_type": "code",
   "execution_count": 1297,
   "metadata": {},
   "outputs": [
    {
     "data": {
      "text/html": [
       "<div>\n",
       "<style scoped>\n",
       "    .dataframe tbody tr th:only-of-type {\n",
       "        vertical-align: middle;\n",
       "    }\n",
       "\n",
       "    .dataframe tbody tr th {\n",
       "        vertical-align: top;\n",
       "    }\n",
       "\n",
       "    .dataframe thead th {\n",
       "        text-align: right;\n",
       "    }\n",
       "</style>\n",
       "<table border=\"1\" class=\"dataframe\">\n",
       "  <thead>\n",
       "    <tr style=\"text-align: right;\">\n",
       "      <th></th>\n",
       "      <th>name</th>\n",
       "      <th>category</th>\n",
       "      <th>points</th>\n",
       "      <th>price_usd</th>\n",
       "      <th>review</th>\n",
       "      <th>abv%</th>\n",
       "      <th>year</th>\n",
       "    </tr>\n",
       "  </thead>\n",
       "  <tbody>\n",
       "    <tr>\n",
       "      <th>2027</th>\n",
       "      <td>The Street Pumas’, 40%</td>\n",
       "      <td>Blended Scotch Whisky</td>\n",
       "      <td>85</td>\n",
       "      <td>26</td>\n",
       "      <td>This expression was released to celebrate the Scottish feature film “Fairy Flag,” and after maturing for 8 years in bourbon barrels, the whisky then spent 7 years aging in oloroso sherry casks. Initially meaty with rich sherry, raisins, and cocoa powder, then increasing vanilla notes, plus warm leather and wood polish. Sweet and very spicy on the palate, with caramel, chili, and cinnamon. The finish is medium in length, with peppery plain chocolate. £65</td>\n",
       "      <td>40</td>\n",
       "      <td>NaN</td>\n",
       "    </tr>\n",
       "    <tr>\n",
       "      <th>1514</th>\n",
       "      <td>Wemyss Malts Waffles and Ice Cream (distilled at Clynelish) 1997, 54.2%</td>\n",
       "      <td>Single Malt Scotch</td>\n",
       "      <td>87</td>\n",
       "      <td>144</td>\n",
       "      <td>This cask strength, port cask-aged whisky comes from an undisclosed distillery near Aberlour. The impact of the port cask is unmistakable, with a nose that is deeply fruity with dried apricot, blackberry jam, honey, and malt. On the palate these rich sweet fruit notes are well balanced by black pepper, clove, salt, honey, and a touch of dark chocolate. The underlying proof also helps counterbalance the sweet fruit and drives a medium length and slightly dry finish. (U.S. only)</td>\n",
       "      <td>54.2</td>\n",
       "      <td>1997</td>\n",
       "    </tr>\n",
       "    <tr>\n",
       "      <th>662</th>\n",
       "      <td>Bruichladdich Islay Barley 2007 6 year old, 50%</td>\n",
       "      <td>Single Malt Scotch</td>\n",
       "      <td>90</td>\n",
       "      <td>72</td>\n",
       "      <td>Rooted in the earth and redolent of late autumn. There’s a plummy thread that runs through this range; here we’ve gone to prune, mixed with dried cherries, and a sweet/savory edge whose whiff of heavy rose petal is reminiscent of Barolo. Robust, yet sweet. Heady, like chocolate-covered Turkish Delight. The palate has oloroso notes alongside Assam-like tannins. One to have with water on the side. Classical in structure and aromatics, but that vinous sweetness is new. £120</td>\n",
       "      <td>50</td>\n",
       "      <td>2007</td>\n",
       "    </tr>\n",
       "    <tr>\n",
       "      <th>1424</th>\n",
       "      <td>Balblair 1975, 46%</td>\n",
       "      <td>Single Malt Scotch</td>\n",
       "      <td>87</td>\n",
       "      <td>375</td>\n",
       "      <td>Aged in both refill and new bourbon casks. The new bourbon casks are evident, and I think it adds richness, vibrancy, and perceived maturity (which I like) when compared to the previous Summer 2010 release. Very pale in color. Brooding, with licorice root, coal tar, bacon fat, damp peat, bright fruit (citrus and pear), and intriguing botanicals, all on a soothing bed of vanilla malt. Smoky, briny finish. I’m still amazed how this very young whisky can taste so mature. Well done!</td>\n",
       "      <td>46</td>\n",
       "      <td>1975</td>\n",
       "    </tr>\n",
       "    <tr>\n",
       "      <th>918</th>\n",
       "      <td>Arran The Devil’s Punch Bowl Chapter II: Angels &amp; Devils, 53.1%</td>\n",
       "      <td>Single Malt Scotch</td>\n",
       "      <td>89</td>\n",
       "      <td>130</td>\n",
       "      <td>After initial maturation in American white oak, this 1991 expression was filled into a 15 year old Lepanto brandy cask from Gonzales Byass in May 2003, ultimately being re-racked into a fresh ‘distillery run’ bourbon barrel in August 2009. Caramel and white chocolate on the nose, malt, fudge, cinnamon, and nutmeg, then burnt treacle and hot brandy. Malt, sweet spice, almonds, bananas, and fudge on the palate. Spicy fruits in the lengthy Armagnac-like finish. Cask number 1; 233 bottles.</td>\n",
       "      <td>53.1</td>\n",
       "      <td>NaN</td>\n",
       "    </tr>\n",
       "    <tr>\n",
       "      <th>2234</th>\n",
       "      <td>Bruichladdich 12 year old (2nd Edition), 46%</td>\n",
       "      <td>Single Malt Scotch</td>\n",
       "      <td>83</td>\n",
       "      <td>60</td>\n",
       "      <td>NaN</td>\n",
       "      <td>46</td>\n",
       "      <td>NaN</td>\n",
       "    </tr>\n",
       "  </tbody>\n",
       "</table>\n",
       "</div>"
      ],
      "text/plain": [
       "                                                                         name  \\\n",
       "2027                                                   The Street Pumas’, 40%   \n",
       "1514  Wemyss Malts Waffles and Ice Cream (distilled at Clynelish) 1997, 54.2%   \n",
       "662                           Bruichladdich Islay Barley 2007 6 year old, 50%   \n",
       "1424                                                       Balblair 1975, 46%   \n",
       "918           Arran The Devil’s Punch Bowl Chapter II: Angels & Devils, 53.1%   \n",
       "2234                             Bruichladdich 12 year old (2nd Edition), 46%   \n",
       "\n",
       "                   category  points  price_usd  \\\n",
       "2027  Blended Scotch Whisky      85         26   \n",
       "1514     Single Malt Scotch      87        144   \n",
       "662      Single Malt Scotch      90         72   \n",
       "1424     Single Malt Scotch      87        375   \n",
       "918      Single Malt Scotch      89        130   \n",
       "2234     Single Malt Scotch      83         60   \n",
       "\n",
       "                                                                                                                                                                                                                                                                                                                                                                                                                                                                                                          review  \\\n",
       "2027                                   This expression was released to celebrate the Scottish feature film “Fairy Flag,” and after maturing for 8 years in bourbon barrels, the whisky then spent 7 years aging in oloroso sherry casks. Initially meaty with rich sherry, raisins, and cocoa powder, then increasing vanilla notes, plus warm leather and wood polish. Sweet and very spicy on the palate, with caramel, chili, and cinnamon. The finish is medium in length, with peppery plain chocolate. £65   \n",
       "1514           This cask strength, port cask-aged whisky comes from an undisclosed distillery near Aberlour. The impact of the port cask is unmistakable, with a nose that is deeply fruity with dried apricot, blackberry jam, honey, and malt. On the palate these rich sweet fruit notes are well balanced by black pepper, clove, salt, honey, and a touch of dark chocolate. The underlying proof also helps counterbalance the sweet fruit and drives a medium length and slightly dry finish. (U.S. only)   \n",
       "662                  Rooted in the earth and redolent of late autumn. There’s a plummy thread that runs through this range; here we’ve gone to prune, mixed with dried cherries, and a sweet/savory edge whose whiff of heavy rose petal is reminiscent of Barolo. Robust, yet sweet. Heady, like chocolate-covered Turkish Delight. The palate has oloroso notes alongside Assam-like tannins. One to have with water on the side. Classical in structure and aromatics, but that vinous sweetness is new. £120   \n",
       "1424        Aged in both refill and new bourbon casks. The new bourbon casks are evident, and I think it adds richness, vibrancy, and perceived maturity (which I like) when compared to the previous Summer 2010 release. Very pale in color. Brooding, with licorice root, coal tar, bacon fat, damp peat, bright fruit (citrus and pear), and intriguing botanicals, all on a soothing bed of vanilla malt. Smoky, briny finish. I’m still amazed how this very young whisky can taste so mature. Well done!    \n",
       "918   After initial maturation in American white oak, this 1991 expression was filled into a 15 year old Lepanto brandy cask from Gonzales Byass in May 2003, ultimately being re-racked into a fresh ‘distillery run’ bourbon barrel in August 2009. Caramel and white chocolate on the nose, malt, fudge, cinnamon, and nutmeg, then burnt treacle and hot brandy. Malt, sweet spice, almonds, bananas, and fudge on the palate. Spicy fruits in the lengthy Armagnac-like finish. Cask number 1; 233 bottles.   \n",
       "2234                                                                                                                                                                                                                                                                                                                                                                                                                                                                                                         NaN   \n",
       "\n",
       "      abv%   year  \n",
       "2027    40    NaN  \n",
       "1514  54.2   1997  \n",
       "662     50   2007  \n",
       "1424    46   1975  \n",
       "918   53.1    NaN  \n",
       "2234    46    NaN  "
      ]
     },
     "execution_count": 1297,
     "metadata": {},
     "output_type": "execute_result"
    }
   ],
   "source": [
    "df.sample(6, random_state=42)"
   ]
  },
  {
   "cell_type": "markdown",
   "metadata": {},
   "source": [
    "##### 5.3 Find if whiskey is sold \"Cask strenght\" "
   ]
  },
  {
   "cell_type": "code",
   "execution_count": 1298,
   "metadata": {},
   "outputs": [],
   "source": [
    "df[\"cask_strenght\"]=df[\"name\"].str.lower().str.contains(\"cask strength\")"
   ]
  },
  {
   "cell_type": "code",
   "execution_count": 1299,
   "metadata": {},
   "outputs": [
    {
     "data": {
      "text/html": [
       "<div>\n",
       "<style scoped>\n",
       "    .dataframe tbody tr th:only-of-type {\n",
       "        vertical-align: middle;\n",
       "    }\n",
       "\n",
       "    .dataframe tbody tr th {\n",
       "        vertical-align: top;\n",
       "    }\n",
       "\n",
       "    .dataframe thead th {\n",
       "        text-align: right;\n",
       "    }\n",
       "</style>\n",
       "<table border=\"1\" class=\"dataframe\">\n",
       "  <thead>\n",
       "    <tr style=\"text-align: right;\">\n",
       "      <th></th>\n",
       "      <th>name</th>\n",
       "      <th>category</th>\n",
       "      <th>points</th>\n",
       "      <th>price_usd</th>\n",
       "      <th>review</th>\n",
       "      <th>abv%</th>\n",
       "      <th>year</th>\n",
       "      <th>cask_strenght</th>\n",
       "    </tr>\n",
       "  </thead>\n",
       "  <tbody>\n",
       "    <tr>\n",
       "      <th>2111</th>\n",
       "      <td>Arran 12 year old Cask Strength, 53.6%</td>\n",
       "      <td>Single Malt Scotch</td>\n",
       "      <td>84</td>\n",
       "      <td>70</td>\n",
       "      <td>Good weight to this blend. Creamy and mouth-coating on the palate, with a nice malty, honey-tinged backbone. Bright fruitabounds, with golden raisin, lemon meringue, peach, and a hint of pineapple. Notes of creamy vanilla and gently nutty, through to its soft finish. \\r\\n</td>\n",
       "      <td>53.6</td>\n",
       "      <td>NaN</td>\n",
       "      <td>True</td>\n",
       "    </tr>\n",
       "    <tr>\n",
       "      <th>720</th>\n",
       "      <td>GlenDronach Cask Strength (Batch 6), 56.1%</td>\n",
       "      <td>Single Malt Scotch</td>\n",
       "      <td>90</td>\n",
       "      <td>71</td>\n",
       "      <td>This was matured in first-fill sherry, bourbon, French wine, and tempranillo casks. Initial brine on the nose gives way to malt and orchard fruits, sweet smoke, and buttery malt. Sweet, medicinal smoke notes on the early palate, then toffee and peaches drying to aniseed and chili. Long and prickly in the finish, with licorice and black pepper. A complex rendering of Port Charlotte.</td>\n",
       "      <td>56.1</td>\n",
       "      <td>NaN</td>\n",
       "      <td>True</td>\n",
       "    </tr>\n",
       "    <tr>\n",
       "      <th>1100</th>\n",
       "      <td>Laphroaig Original Cask Strength 10 year old, 57.3%</td>\n",
       "      <td>Single Malt Scotch</td>\n",
       "      <td>88</td>\n",
       "      <td>60</td>\n",
       "      <td>Gold color. Floral aromas balanced with a gentle vanilla sweetness, and soft fruit. Soft, rounded body. The palate delivers what the aroma promises in a very clean and balanced way. Pleasing finish. \\r\\n</td>\n",
       "      <td>57.3</td>\n",
       "      <td>NaN</td>\n",
       "      <td>True</td>\n",
       "    </tr>\n",
       "  </tbody>\n",
       "</table>\n",
       "</div>"
      ],
      "text/plain": [
       "                                                     name            category  \\\n",
       "2111               Arran 12 year old Cask Strength, 53.6%  Single Malt Scotch   \n",
       "720            GlenDronach Cask Strength (Batch 6), 56.1%  Single Malt Scotch   \n",
       "1100  Laphroaig Original Cask Strength 10 year old, 57.3%  Single Malt Scotch   \n",
       "\n",
       "      points  price_usd  \\\n",
       "2111      84         70   \n",
       "720       90         71   \n",
       "1100      88         60   \n",
       "\n",
       "                                                                                                                                                                                                                                                                                                                                                                                                review  \\\n",
       "2111                                                                                                                  Good weight to this blend. Creamy and mouth-coating on the palate, with a nice malty, honey-tinged backbone. Bright fruitabounds, with golden raisin, lemon meringue, peach, and a hint of pineapple. Notes of creamy vanilla and gently nutty, through to its soft finish. \\r\\n   \n",
       "720   This was matured in first-fill sherry, bourbon, French wine, and tempranillo casks. Initial brine on the nose gives way to malt and orchard fruits, sweet smoke, and buttery malt. Sweet, medicinal smoke notes on the early palate, then toffee and peaches drying to aniseed and chili. Long and prickly in the finish, with licorice and black pepper. A complex rendering of Port Charlotte.   \n",
       "1100                                                                                                                                                                                       Gold color. Floral aromas balanced with a gentle vanilla sweetness, and soft fruit. Soft, rounded body. The palate delivers what the aroma promises in a very clean and balanced way. Pleasing finish. \\r\\n   \n",
       "\n",
       "      abv% year  cask_strenght  \n",
       "2111  53.6  NaN           True  \n",
       "720   56.1  NaN           True  \n",
       "1100  57.3  NaN           True  "
      ]
     },
     "execution_count": 1299,
     "metadata": {},
     "output_type": "execute_result"
    }
   ],
   "source": [
    "df[df[\"cask_strenght\"]].sample(3, random_state=42)"
   ]
  },
  {
   "cell_type": "markdown",
   "metadata": {},
   "source": [
    "##### 5.4 Find if the whiskey is bottled from a single cask"
   ]
  },
  {
   "cell_type": "code",
   "execution_count": 1300,
   "metadata": {},
   "outputs": [],
   "source": [
    "# use name value to find out if the whiskey is bottled from a single cask (barrel) \n",
    "df[\"single_cask\"]=df[\"name\"].str.lower().str.contains('|'.join([\"single cask \",\"single barrel\",\"cask #\"]))"
   ]
  },
  {
   "cell_type": "code",
   "execution_count": 1301,
   "metadata": {},
   "outputs": [
    {
     "data": {
      "text/html": [
       "<div>\n",
       "<style scoped>\n",
       "    .dataframe tbody tr th:only-of-type {\n",
       "        vertical-align: middle;\n",
       "    }\n",
       "\n",
       "    .dataframe tbody tr th {\n",
       "        vertical-align: top;\n",
       "    }\n",
       "\n",
       "    .dataframe thead th {\n",
       "        text-align: right;\n",
       "    }\n",
       "</style>\n",
       "<table border=\"1\" class=\"dataframe\">\n",
       "  <thead>\n",
       "    <tr style=\"text-align: right;\">\n",
       "      <th></th>\n",
       "      <th>name</th>\n",
       "      <th>category</th>\n",
       "      <th>points</th>\n",
       "      <th>price_usd</th>\n",
       "      <th>review</th>\n",
       "      <th>abv%</th>\n",
       "      <th>year</th>\n",
       "      <th>cask_strenght</th>\n",
       "      <th>single_cask</th>\n",
       "    </tr>\n",
       "  </thead>\n",
       "  <tbody>\n",
       "    <tr>\n",
       "      <th>1994</th>\n",
       "      <td>The Balvenie DCS Compendium 1st Chapter 1985 30 year old (Cask #612), 54.1%</td>\n",
       "      <td>Single Malt Scotch</td>\n",
       "      <td>85</td>\n",
       "      <td>1872</td>\n",
       "      <td>An interesting nose that’s somewhat akin to a peach cheesecake with slightly burnt pastry, or a heavily caramelized crème brûlée. Overt smoke is in check when neat. In the mouth, however, it comes through massively, mossy and oily and sitting on top of those fat fruits and sweet malt. Thicker and more farmyard-like than Port Charlotte. Great potential, with a sweetness that shows it’s pretty much there. £150</td>\n",
       "      <td>54.1</td>\n",
       "      <td>1985</td>\n",
       "      <td>False</td>\n",
       "      <td>True</td>\n",
       "    </tr>\n",
       "    <tr>\n",
       "      <th>1327</th>\n",
       "      <td>Single Malts of Scotland 13 year old Glen Elgin 2006 Single Cask (Cask No. 9800011), 54.1%</td>\n",
       "      <td>Single Malt Scotch</td>\n",
       "      <td>88</td>\n",
       "      <td>125</td>\n",
       "      <td>Spicy on the nose, with deep, full tropical fruit notes, praline, and marzipan. The palate is silky, with fudge and raisins, then cherry liqueur. The finish yields dark chocolate and citrus fruit, plus peppery oak.</td>\n",
       "      <td>54.1</td>\n",
       "      <td>2006</td>\n",
       "      <td>False</td>\n",
       "      <td>True</td>\n",
       "    </tr>\n",
       "    <tr>\n",
       "      <th>578</th>\n",
       "      <td>Signatory (distilled at Brora), 24 year old, 1981 vintage, Cask # 06/656, 60.1%</td>\n",
       "      <td>Single Malt Scotch</td>\n",
       "      <td>90</td>\n",
       "      <td>225</td>\n",
       "      <td>\\r\\n\\r\\nFruit and grain drive this solid sipper, with aromas of banana, cantaloupe, almond paste, and lemon-ginger tea to start. In the mouth, it’s rounded and full, showing zingy lemon, biscuity malt, cooked bananas, and milk chocolate. Water brings out brighter fruit flavors: strawberry, lemon, and green apple hard candies. The finish comes full circle, with bananas, lemon, almonds, and vanilla. (216 bottles; U.S. exclusive)</td>\n",
       "      <td>60.1</td>\n",
       "      <td>1981</td>\n",
       "      <td>False</td>\n",
       "      <td>True</td>\n",
       "    </tr>\n",
       "  </tbody>\n",
       "</table>\n",
       "</div>"
      ],
      "text/plain": [
       "                                                                                            name  \\\n",
       "1994                 The Balvenie DCS Compendium 1st Chapter 1985 30 year old (Cask #612), 54.1%   \n",
       "1327  Single Malts of Scotland 13 year old Glen Elgin 2006 Single Cask (Cask No. 9800011), 54.1%   \n",
       "578              Signatory (distilled at Brora), 24 year old, 1981 vintage, Cask # 06/656, 60.1%   \n",
       "\n",
       "                category  points  price_usd  \\\n",
       "1994  Single Malt Scotch      85       1872   \n",
       "1327  Single Malt Scotch      88        125   \n",
       "578   Single Malt Scotch      90        225   \n",
       "\n",
       "                                                                                                                                                                                                                                                                                                                                                                                                                                              review  \\\n",
       "1994                     An interesting nose that’s somewhat akin to a peach cheesecake with slightly burnt pastry, or a heavily caramelized crème brûlée. Overt smoke is in check when neat. In the mouth, however, it comes through massively, mossy and oily and sitting on top of those fat fruits and sweet malt. Thicker and more farmyard-like than Port Charlotte. Great potential, with a sweetness that shows it’s pretty much there. £150   \n",
       "1327                                                                                                                                                                                                                          Spicy on the nose, with deep, full tropical fruit notes, praline, and marzipan. The palate is silky, with fudge and raisins, then cherry liqueur. The finish yields dark chocolate and citrus fruit, plus peppery oak.   \n",
       "578   \\r\\n\\r\\nFruit and grain drive this solid sipper, with aromas of banana, cantaloupe, almond paste, and lemon-ginger tea to start. In the mouth, it’s rounded and full, showing zingy lemon, biscuity malt, cooked bananas, and milk chocolate. Water brings out brighter fruit flavors: strawberry, lemon, and green apple hard candies. The finish comes full circle, with bananas, lemon, almonds, and vanilla. (216 bottles; U.S. exclusive)   \n",
       "\n",
       "      abv%   year  cask_strenght  single_cask  \n",
       "1994  54.1   1985          False         True  \n",
       "1327  54.1   2006          False         True  \n",
       "578   60.1   1981          False         True  "
      ]
     },
     "execution_count": 1301,
     "metadata": {},
     "output_type": "execute_result"
    }
   ],
   "source": [
    "df[df[\"single_cask\"]].sample(3)"
   ]
  },
  {
   "cell_type": "markdown",
   "metadata": {},
   "source": [
    "##### 5.5 Extract Age from whiskey's label"
   ]
  },
  {
   "cell_type": "code",
   "execution_count": 1302,
   "metadata": {},
   "outputs": [],
   "source": [
    "# use name value to find the age of the whiskey when bottled\n",
    "df[\"age\"]=df[\"name\"].str.extract(r'(\\d+) year')[0]"
   ]
  },
  {
   "cell_type": "code",
   "execution_count": 1303,
   "metadata": {},
   "outputs": [
    {
     "data": {
      "text/html": [
       "<div>\n",
       "<style scoped>\n",
       "    .dataframe tbody tr th:only-of-type {\n",
       "        vertical-align: middle;\n",
       "    }\n",
       "\n",
       "    .dataframe tbody tr th {\n",
       "        vertical-align: top;\n",
       "    }\n",
       "\n",
       "    .dataframe thead th {\n",
       "        text-align: right;\n",
       "    }\n",
       "</style>\n",
       "<table border=\"1\" class=\"dataframe\">\n",
       "  <thead>\n",
       "    <tr style=\"text-align: right;\">\n",
       "      <th></th>\n",
       "      <th>name</th>\n",
       "      <th>category</th>\n",
       "      <th>points</th>\n",
       "      <th>price_usd</th>\n",
       "      <th>review</th>\n",
       "      <th>abv%</th>\n",
       "      <th>year</th>\n",
       "      <th>cask_strenght</th>\n",
       "      <th>single_cask</th>\n",
       "      <th>age</th>\n",
       "    </tr>\n",
       "  </thead>\n",
       "  <tbody>\n",
       "    <tr>\n",
       "      <th>1067</th>\n",
       "      <td>Tomintoul 12 year old Kedem Port Cask-Finished, 40%</td>\n",
       "      <td>Single Malt Scotch</td>\n",
       "      <td>89</td>\n",
       "      <td>75</td>\n",
       "      <td>A pale blend with hidden depths of flavor and a sweet nose of honeyed pear, vanilla, Golden Delicious apples, taffy, and custard tarts, all overlaid with ashy smoke and drifting smoke trails from snuffed-out candles. Pear, apple, clove, and cracked black pepper meet butter toffee, vanilla, and nippy spices. It’s imbued with a pretty smoky flavor for a peated cask, and leaves a creamy aftertaste to savor. £32</td>\n",
       "      <td>40</td>\n",
       "      <td>NaN</td>\n",
       "      <td>False</td>\n",
       "      <td>False</td>\n",
       "      <td>12</td>\n",
       "    </tr>\n",
       "    <tr>\n",
       "      <th>216</th>\n",
       "      <td>Kilchoman ImpEx Cask Evolution 02/2019 Single Cask Oloroso Sherry Cask-Matured (Cask #622/11), 56.1%</td>\n",
       "      <td>Single Malt Scotch</td>\n",
       "      <td>93</td>\n",
       "      <td>140</td>\n",
       "      <td>This bottling from 1992 was distilled partly from dark-roasted chocolate malt. Classic Balvenie honey and fruit spices on the nose, with light oiliness, ginger, and orange blossom. Rich flavors of canned pears and pineapple in syrup on the palate, with hot chocolate and wood spices. Marzipan, dark chocolate, and black pepper in the long finish. A delightfully different Balvenie. (150 bottles)</td>\n",
       "      <td>56.1</td>\n",
       "      <td>2019</td>\n",
       "      <td>False</td>\n",
       "      <td>True</td>\n",
       "      <td>NaN</td>\n",
       "    </tr>\n",
       "    <tr>\n",
       "      <th>1218</th>\n",
       "      <td>Lagavulin 8 year old, 48%</td>\n",
       "      <td>Single Malt Scotch</td>\n",
       "      <td>88</td>\n",
       "      <td>65</td>\n",
       "      <td>Light gold, with good intensity and a more noticeable malty note than is common with this distillery, as well as touches of daffodil and dried honeycomb. The wood influence appears minimal to start with, but more vanilla creeps through in time; water brings out almond milk. Opens into clementine peel, pomelo, then cooked dessert apple. The palate is clean and forward; even slightly hot when neat. Remarkably assertive for a 25 year old.</td>\n",
       "      <td>48</td>\n",
       "      <td>NaN</td>\n",
       "      <td>False</td>\n",
       "      <td>False</td>\n",
       "      <td>8</td>\n",
       "    </tr>\n",
       "    <tr>\n",
       "      <th>1233</th>\n",
       "      <td>Loch Lomond 12 year old, 46%</td>\n",
       "      <td>Single Malt Scotch</td>\n",
       "      <td>88</td>\n",
       "      <td>55</td>\n",
       "      <td>As part of its program to make available single malts from all five of its Scotch whisky distilleries, Bacardi subsidiary John Dewar &amp; Sons has now released a trio of bottlings from Royal Brackla, situated near Nairn in the Scottish Highlands. The 12, 16, and 21 year old expressions are initially available in ten markets, Including the UK, U.S., and Canada.\\r\\nRicher and more complex than its younger sibling, with waxy peel, glacé cherries, sherry, sultanas, and custard. Silky smooth in the mouth, with marshmallows, milk chocolate, medium-sweet sherry, and stem ginger. Tingling spices allied to darkening chocolate and a touch of smoke in the medium to long finish. Finally, a fat, buttery note.</td>\n",
       "      <td>46</td>\n",
       "      <td>NaN</td>\n",
       "      <td>False</td>\n",
       "      <td>False</td>\n",
       "      <td>12</td>\n",
       "    </tr>\n",
       "  </tbody>\n",
       "</table>\n",
       "</div>"
      ],
      "text/plain": [
       "                                                                                                      name  \\\n",
       "1067                                                   Tomintoul 12 year old Kedem Port Cask-Finished, 40%   \n",
       "216   Kilchoman ImpEx Cask Evolution 02/2019 Single Cask Oloroso Sherry Cask-Matured (Cask #622/11), 56.1%   \n",
       "1218                                                                             Lagavulin 8 year old, 48%   \n",
       "1233                                                                          Loch Lomond 12 year old, 46%   \n",
       "\n",
       "                category  points  price_usd  \\\n",
       "1067  Single Malt Scotch      89         75   \n",
       "216   Single Malt Scotch      93        140   \n",
       "1218  Single Malt Scotch      88         65   \n",
       "1233  Single Malt Scotch      88         55   \n",
       "\n",
       "                                                                                                                                                                                                                                                                                                                                                                                                                                                                                                                                                                                                                                                                                                                              review  \\\n",
       "1067                                                                                                                                                                                                                                                                                                     A pale blend with hidden depths of flavor and a sweet nose of honeyed pear, vanilla, Golden Delicious apples, taffy, and custard tarts, all overlaid with ashy smoke and drifting smoke trails from snuffed-out candles. Pear, apple, clove, and cracked black pepper meet butter toffee, vanilla, and nippy spices. It’s imbued with a pretty smoky flavor for a peated cask, and leaves a creamy aftertaste to savor. £32   \n",
       "216                                                                                                                                                                                                                                                                                                                      This bottling from 1992 was distilled partly from dark-roasted chocolate malt. Classic Balvenie honey and fruit spices on the nose, with light oiliness, ginger, and orange blossom. Rich flavors of canned pears and pineapple in syrup on the palate, with hot chocolate and wood spices. Marzipan, dark chocolate, and black pepper in the long finish. A delightfully different Balvenie. (150 bottles)   \n",
       "1218                                                                                                                                                                                                                                                                         Light gold, with good intensity and a more noticeable malty note than is common with this distillery, as well as touches of daffodil and dried honeycomb. The wood influence appears minimal to start with, but more vanilla creeps through in time; water brings out almond milk. Opens into clementine peel, pomelo, then cooked dessert apple. The palate is clean and forward; even slightly hot when neat. Remarkably assertive for a 25 year old.   \n",
       "1233  As part of its program to make available single malts from all five of its Scotch whisky distilleries, Bacardi subsidiary John Dewar & Sons has now released a trio of bottlings from Royal Brackla, situated near Nairn in the Scottish Highlands. The 12, 16, and 21 year old expressions are initially available in ten markets, Including the UK, U.S., and Canada.\\r\\nRicher and more complex than its younger sibling, with waxy peel, glacé cherries, sherry, sultanas, and custard. Silky smooth in the mouth, with marshmallows, milk chocolate, medium-sweet sherry, and stem ginger. Tingling spices allied to darkening chocolate and a touch of smoke in the medium to long finish. Finally, a fat, buttery note.   \n",
       "\n",
       "      abv%  year  cask_strenght  single_cask  age  \n",
       "1067    40   NaN          False        False   12  \n",
       "216   56.1  2019          False         True  NaN  \n",
       "1218    48   NaN          False        False    8  \n",
       "1233    46   NaN          False        False   12  "
      ]
     },
     "execution_count": 1303,
     "metadata": {},
     "output_type": "execute_result"
    }
   ],
   "source": [
    "df.sample(4,random_state=4)"
   ]
  },
  {
   "cell_type": "markdown",
   "metadata": {},
   "source": [
    "##### 5.6 Extract whiskey Name from Label "
   ]
  },
  {
   "cell_type": "code",
   "execution_count": 1304,
   "metadata": {},
   "outputs": [],
   "source": [
    "df[\"whiskey\"]=df[\"name\"].str.split(\",\",expand=True,n=2)[0]"
   ]
  },
  {
   "cell_type": "code",
   "execution_count": 1305,
   "metadata": {},
   "outputs": [
    {
     "data": {
      "text/html": [
       "<div>\n",
       "<style scoped>\n",
       "    .dataframe tbody tr th:only-of-type {\n",
       "        vertical-align: middle;\n",
       "    }\n",
       "\n",
       "    .dataframe tbody tr th {\n",
       "        vertical-align: top;\n",
       "    }\n",
       "\n",
       "    .dataframe thead th {\n",
       "        text-align: right;\n",
       "    }\n",
       "</style>\n",
       "<table border=\"1\" class=\"dataframe\">\n",
       "  <thead>\n",
       "    <tr style=\"text-align: right;\">\n",
       "      <th></th>\n",
       "      <th>name</th>\n",
       "      <th>category</th>\n",
       "      <th>points</th>\n",
       "      <th>price_usd</th>\n",
       "      <th>review</th>\n",
       "      <th>abv%</th>\n",
       "      <th>year</th>\n",
       "      <th>cask_strenght</th>\n",
       "      <th>single_cask</th>\n",
       "      <th>age</th>\n",
       "      <th>whiskey</th>\n",
       "    </tr>\n",
       "  </thead>\n",
       "  <tbody>\n",
       "    <tr>\n",
       "      <th>1163</th>\n",
       "      <td>Dailuaine 16 year old Flora &amp; Fauna, 43%</td>\n",
       "      <td>Single Malt Scotch</td>\n",
       "      <td>88</td>\n",
       "      <td>65</td>\n",
       "      <td>Balblair 2001 Vintage is the first distillery bottling to be non-chill filtered, noncolored, and offered at 46%. It is 10 years old and has been matured in ex-bourbon barrels. The nose offers lemonade, vanilla, allspice, and developing milk chocolate and caramel notes. Clean and straightforward on the palate; sweet and spicy, with tangerines, eating apples, toffee, and more milk chocolate. Cocoa powder in the spicy, relatively lengthy finish. £33</td>\n",
       "      <td>43</td>\n",
       "      <td>NaN</td>\n",
       "      <td>False</td>\n",
       "      <td>False</td>\n",
       "      <td>16</td>\n",
       "      <td>Dailuaine 16 year old Flora &amp; Fauna</td>\n",
       "    </tr>\n",
       "    <tr>\n",
       "      <th>1767</th>\n",
       "      <td>Springbank Green 12 year old, 46%</td>\n",
       "      <td>Single Malt Scotch</td>\n",
       "      <td>86</td>\n",
       "      <td>90</td>\n",
       "      <td>Matured in cognac before being finished in Sauternes; here we have a clean, sweet, and well-rounded Bunna’, with hickory-like smoke, bonfire, and ginger biscuits. Lightly vegetal notes with farmyard elements among the smoke and thick, citric sweetness. Immediate smoke on top of this mix of spice, Seville orange, apricot, cheesecake base, hazelnut, red fruits, and preserved ginger in syrup adding an almost peppery finish. Lovely. £250</td>\n",
       "      <td>46</td>\n",
       "      <td>NaN</td>\n",
       "      <td>False</td>\n",
       "      <td>False</td>\n",
       "      <td>12</td>\n",
       "      <td>Springbank Green 12 year old</td>\n",
       "    </tr>\n",
       "    <tr>\n",
       "      <th>2110</th>\n",
       "      <td>Glenglassaugh Evolution, 57.2%</td>\n",
       "      <td>Single Malt Scotch</td>\n",
       "      <td>84</td>\n",
       "      <td>78</td>\n",
       "      <td>Deeper and darker when compared to its younger siblings, but with the same personality. Drier, especially on the finish, with added oak resin, espresso, leather, and tobacco. Bonus points for character.\\r\\n</td>\n",
       "      <td>57.2</td>\n",
       "      <td>NaN</td>\n",
       "      <td>False</td>\n",
       "      <td>False</td>\n",
       "      <td>NaN</td>\n",
       "      <td>Glenglassaugh Evolution</td>\n",
       "    </tr>\n",
       "    <tr>\n",
       "      <th>1647</th>\n",
       "      <td>GlenDronach 12 year old, 46%</td>\n",
       "      <td>Single Malt Scotch</td>\n",
       "      <td>86</td>\n",
       "      <td>59</td>\n",
       "      <td>Antique gold. Aromas of toffee, malty sweetness, fresh mint and subtle oak. Mouth coating, creamy texture-almost chewy-with flavors of toffee, almonds, dark chocolate, and subtle wood spices on the finish. This is a very pleasing, straightforward whisky that is quite mature for its age.</td>\n",
       "      <td>46</td>\n",
       "      <td>NaN</td>\n",
       "      <td>False</td>\n",
       "      <td>False</td>\n",
       "      <td>12</td>\n",
       "      <td>GlenDronach 12 year old</td>\n",
       "    </tr>\n",
       "  </tbody>\n",
       "</table>\n",
       "</div>"
      ],
      "text/plain": [
       "                                          name            category  points  \\\n",
       "1163  Dailuaine 16 year old Flora & Fauna, 43%  Single Malt Scotch      88   \n",
       "1767         Springbank Green 12 year old, 46%  Single Malt Scotch      86   \n",
       "2110            Glenglassaugh Evolution, 57.2%  Single Malt Scotch      84   \n",
       "1647              GlenDronach 12 year old, 46%  Single Malt Scotch      86   \n",
       "\n",
       "      price_usd  \\\n",
       "1163         65   \n",
       "1767         90   \n",
       "2110         78   \n",
       "1647         59   \n",
       "\n",
       "                                                                                                                                                                                                                                                                                                                                                                                                                                                                  review  \\\n",
       "1163  Balblair 2001 Vintage is the first distillery bottling to be non-chill filtered, noncolored, and offered at 46%. It is 10 years old and has been matured in ex-bourbon barrels. The nose offers lemonade, vanilla, allspice, and developing milk chocolate and caramel notes. Clean and straightforward on the palate; sweet and spicy, with tangerines, eating apples, toffee, and more milk chocolate. Cocoa powder in the spicy, relatively lengthy finish. £33   \n",
       "1767               Matured in cognac before being finished in Sauternes; here we have a clean, sweet, and well-rounded Bunna’, with hickory-like smoke, bonfire, and ginger biscuits. Lightly vegetal notes with farmyard elements among the smoke and thick, citric sweetness. Immediate smoke on top of this mix of spice, Seville orange, apricot, cheesecake base, hazelnut, red fruits, and preserved ginger in syrup adding an almost peppery finish. Lovely. £250   \n",
       "2110                                                                                                                                                                                                                                                      Deeper and darker when compared to its younger siblings, but with the same personality. Drier, especially on the finish, with added oak resin, espresso, leather, and tobacco. Bonus points for character.\\r\\n   \n",
       "1647                                                                                                                                                                     Antique gold. Aromas of toffee, malty sweetness, fresh mint and subtle oak. Mouth coating, creamy texture-almost chewy-with flavors of toffee, almonds, dark chocolate, and subtle wood spices on the finish. This is a very pleasing, straightforward whisky that is quite mature for its age.   \n",
       "\n",
       "      abv% year  cask_strenght  single_cask  age  \\\n",
       "1163    43  NaN          False        False   16   \n",
       "1767    46  NaN          False        False   12   \n",
       "2110  57.2  NaN          False        False  NaN   \n",
       "1647    46  NaN          False        False   12   \n",
       "\n",
       "                                  whiskey  \n",
       "1163  Dailuaine 16 year old Flora & Fauna  \n",
       "1767         Springbank Green 12 year old  \n",
       "2110              Glenglassaugh Evolution  \n",
       "1647              GlenDronach 12 year old  "
      ]
     },
     "execution_count": 1305,
     "metadata": {},
     "output_type": "execute_result"
    }
   ],
   "source": [
    "df.sample(4,random_state=41)"
   ]
  },
  {
   "cell_type": "markdown",
   "metadata": {},
   "source": [
    "##### 5.7 Convert data types of the new columns"
   ]
  },
  {
   "cell_type": "code",
   "execution_count": 1306,
   "metadata": {},
   "outputs": [
    {
     "name": "stdout",
     "output_type": "stream",
     "text": [
      "<class 'pandas.core.frame.DataFrame'>\n",
      "Int64Index: 2187 entries, 0 to 2246\n",
      "Data columns (total 11 columns):\n",
      " #   Column         Non-Null Count  Dtype   \n",
      "---  ------         --------------  -----   \n",
      " 0   name           2187 non-null   object  \n",
      " 1   category       2187 non-null   category\n",
      " 2   points         2187 non-null   int64   \n",
      " 3   price_usd      2187 non-null   int32   \n",
      " 4   review         2149 non-null   object  \n",
      " 5   abv%           2177 non-null   object  \n",
      " 6   year           807 non-null    object  \n",
      " 7   cask_strenght  2187 non-null   bool    \n",
      " 8   single_cask    2187 non-null   bool    \n",
      " 9   age            1152 non-null   object  \n",
      " 10  whiskey        2187 non-null   object  \n",
      "dtypes: bool(2), category(1), int32(1), int64(1), object(6)\n",
      "memory usage: 151.8+ KB\n"
     ]
    }
   ],
   "source": [
    "# check to see if the new columns are of the right data type\n",
    "df.info()"
   ]
  },
  {
   "cell_type": "code",
   "execution_count": 1307,
   "metadata": {},
   "outputs": [],
   "source": [
    "# Convert data types of abv and age\n",
    "df[\"abv%\"]=df[\"abv%\"].astype(\"float\")\n",
    "df[\"age\"]=df[\"age\"].astype(\"float\")"
   ]
  },
  {
   "cell_type": "code",
   "execution_count": 1308,
   "metadata": {},
   "outputs": [
    {
     "name": "stdout",
     "output_type": "stream",
     "text": [
      "<class 'pandas.core.frame.DataFrame'>\n",
      "Int64Index: 2187 entries, 0 to 2246\n",
      "Data columns (total 11 columns):\n",
      " #   Column         Non-Null Count  Dtype   \n",
      "---  ------         --------------  -----   \n",
      " 0   name           2187 non-null   object  \n",
      " 1   category       2187 non-null   category\n",
      " 2   points         2187 non-null   int64   \n",
      " 3   price_usd      2187 non-null   int32   \n",
      " 4   review         2149 non-null   object  \n",
      " 5   abv%           2177 non-null   float64 \n",
      " 6   year           807 non-null    object  \n",
      " 7   cask_strenght  2187 non-null   bool    \n",
      " 8   single_cask    2187 non-null   bool    \n",
      " 9   age            1152 non-null   float64 \n",
      " 10  whiskey        2187 non-null   object  \n",
      "dtypes: bool(2), category(1), float64(2), int32(1), int64(1), object(4)\n",
      "memory usage: 151.8+ KB\n"
     ]
    }
   ],
   "source": [
    "# check to see if data types are right\n",
    "df.info()"
   ]
  },
  {
   "cell_type": "markdown",
   "metadata": {},
   "source": [
    "##### 5.8 Calculate cost per review point"
   ]
  },
  {
   "cell_type": "code",
   "execution_count": 1309,
   "metadata": {},
   "outputs": [
    {
     "data": {
      "text/html": [
       "<div>\n",
       "<style scoped>\n",
       "    .dataframe tbody tr th:only-of-type {\n",
       "        vertical-align: middle;\n",
       "    }\n",
       "\n",
       "    .dataframe tbody tr th {\n",
       "        vertical-align: top;\n",
       "    }\n",
       "\n",
       "    .dataframe thead th {\n",
       "        text-align: right;\n",
       "    }\n",
       "</style>\n",
       "<table border=\"1\" class=\"dataframe\">\n",
       "  <thead>\n",
       "    <tr style=\"text-align: right;\">\n",
       "      <th></th>\n",
       "      <th>name</th>\n",
       "      <th>category</th>\n",
       "      <th>points</th>\n",
       "      <th>price_usd</th>\n",
       "      <th>review</th>\n",
       "      <th>abv%</th>\n",
       "      <th>year</th>\n",
       "      <th>cask_strenght</th>\n",
       "      <th>single_cask</th>\n",
       "      <th>age</th>\n",
       "      <th>whiskey</th>\n",
       "      <th>cost_per_point</th>\n",
       "    </tr>\n",
       "  </thead>\n",
       "  <tbody>\n",
       "    <tr>\n",
       "      <th>0</th>\n",
       "      <td>Black Bowmore 42 year old 1964 vintage, 40.5%</td>\n",
       "      <td>Single Malt Scotch</td>\n",
       "      <td>97</td>\n",
       "      <td>4500</td>\n",
       "      <td>What impresses me most is how this whisky evolves; it's incredibly complex. On the nose and palate, this is a thick, viscous, whisky with notes of sticky toffee, earthy oak, fig cake, roasted nuts, fallen fruit, pancake batter, black cherry, ripe peach, dark chocolate-covered espresso bean, polished leather, tobacco, a hint of wild game, and lingering, leafy damp kiln smoke. Flavors continue on the palate long after swallowing. This is what we all hope for (and dream of) in an older whisky!</td>\n",
       "      <td>40.5</td>\n",
       "      <td>1964</td>\n",
       "      <td>False</td>\n",
       "      <td>False</td>\n",
       "      <td>42.0</td>\n",
       "      <td>Black Bowmore 42 year old 1964 vintage</td>\n",
       "      <td>46.391753</td>\n",
       "    </tr>\n",
       "    <tr>\n",
       "      <th>2</th>\n",
       "      <td>Johnnie Walker Blue Label, 40%</td>\n",
       "      <td>Blended Scotch Whisky</td>\n",
       "      <td>97</td>\n",
       "      <td>225</td>\n",
       "      <td>Magnificently powerful and intense. Caramels, dried peats, elegant cigar smoke, seeds scraped from vanilla beans, brand new pencils, peppercorn, coriander seeds, and star anise make for a deeply satisfying nosing experience. Silky caramels, bountiful fruits of ripe peach, stewed apple, orange pith, and pervasive smoke with elements of burnt tobacco. An abiding finish of smoke, dry spices, and banoffee pie sweetness. Close to perfection. Editor's Choice</td>\n",
       "      <td>40.0</td>\n",
       "      <td>NaN</td>\n",
       "      <td>False</td>\n",
       "      <td>False</td>\n",
       "      <td>NaN</td>\n",
       "      <td>Johnnie Walker Blue Label</td>\n",
       "      <td>2.319588</td>\n",
       "    </tr>\n",
       "    <tr>\n",
       "      <th>1</th>\n",
       "      <td>Bowmore 46 year old (distilled 1964), 42.9%</td>\n",
       "      <td>Single Malt Scotch</td>\n",
       "      <td>97</td>\n",
       "      <td>13500</td>\n",
       "      <td>There have been some legendary Bowmores from the mid-60s and this is every bit their equal. All of them share a remarkable aroma of tropical fruit, which here moves into hallucinatory intensity: guava, mango, peach, pineapple, grapefruit. There’s a very light touch of peat smoke, more a memory of Islay than the reality. Concentrated; even at low strength the palate is silky, heady, and haunting, and lasts forever in the dry glass. A legend is born. (Eight bottles only for the U.S.) Editor's Choice.</td>\n",
       "      <td>42.9</td>\n",
       "      <td>1964</td>\n",
       "      <td>False</td>\n",
       "      <td>False</td>\n",
       "      <td>46.0</td>\n",
       "      <td>Bowmore 46 year old (distilled 1964)</td>\n",
       "      <td>139.175258</td>\n",
       "    </tr>\n",
       "    <tr>\n",
       "      <th>7</th>\n",
       "      <td>Bowmore 40 year old, 44.8%</td>\n",
       "      <td>Single Malt Scotch</td>\n",
       "      <td>96</td>\n",
       "      <td>11000</td>\n",
       "      <td>Definitely showing its age, but not in a bad way — the distillery character is still there. Solid foundation of thick, chewy toffee, old pot still rum, and fig cake. Fruity too, with notes of golden raisin and nectarine. Soft, seductive peat smoke, juicy oak, cinnamon, and brine round out the palate. Excellent balance! One of the finest Bowmore whiskies I’ve ever tasted (and, at this price, will probably never taste again.) (Editor's Pick)</td>\n",
       "      <td>44.8</td>\n",
       "      <td>NaN</td>\n",
       "      <td>False</td>\n",
       "      <td>False</td>\n",
       "      <td>40.0</td>\n",
       "      <td>Bowmore 40 year old</td>\n",
       "      <td>114.583333</td>\n",
       "    </tr>\n",
       "  </tbody>\n",
       "</table>\n",
       "</div>"
      ],
      "text/plain": [
       "                                            name               category  \\\n",
       "0  Black Bowmore 42 year old 1964 vintage, 40.5%     Single Malt Scotch   \n",
       "2                 Johnnie Walker Blue Label, 40%  Blended Scotch Whisky   \n",
       "1    Bowmore 46 year old (distilled 1964), 42.9%     Single Malt Scotch   \n",
       "7                     Bowmore 40 year old, 44.8%     Single Malt Scotch   \n",
       "\n",
       "   points  price_usd  \\\n",
       "0      97       4500   \n",
       "2      97        225   \n",
       "1      97      13500   \n",
       "7      96      11000   \n",
       "\n",
       "                                                                                                                                                                                                                                                                                                                                                                                                                                                                                                                    review  \\\n",
       "0          What impresses me most is how this whisky evolves; it's incredibly complex. On the nose and palate, this is a thick, viscous, whisky with notes of sticky toffee, earthy oak, fig cake, roasted nuts, fallen fruit, pancake batter, black cherry, ripe peach, dark chocolate-covered espresso bean, polished leather, tobacco, a hint of wild game, and lingering, leafy damp kiln smoke. Flavors continue on the palate long after swallowing. This is what we all hope for (and dream of) in an older whisky!   \n",
       "2                                                 Magnificently powerful and intense. Caramels, dried peats, elegant cigar smoke, seeds scraped from vanilla beans, brand new pencils, peppercorn, coriander seeds, and star anise make for a deeply satisfying nosing experience. Silky caramels, bountiful fruits of ripe peach, stewed apple, orange pith, and pervasive smoke with elements of burnt tobacco. An abiding finish of smoke, dry spices, and banoffee pie sweetness. Close to perfection. Editor's Choice   \n",
       "1  There have been some legendary Bowmores from the mid-60s and this is every bit their equal. All of them share a remarkable aroma of tropical fruit, which here moves into hallucinatory intensity: guava, mango, peach, pineapple, grapefruit. There’s a very light touch of peat smoke, more a memory of Islay than the reality. Concentrated; even at low strength the palate is silky, heady, and haunting, and lasts forever in the dry glass. A legend is born. (Eight bottles only for the U.S.) Editor's Choice.   \n",
       "7                                                             Definitely showing its age, but not in a bad way — the distillery character is still there. Solid foundation of thick, chewy toffee, old pot still rum, and fig cake. Fruity too, with notes of golden raisin and nectarine. Soft, seductive peat smoke, juicy oak, cinnamon, and brine round out the palate. Excellent balance! One of the finest Bowmore whiskies I’ve ever tasted (and, at this price, will probably never taste again.) (Editor's Pick)    \n",
       "\n",
       "   abv%   year  cask_strenght  single_cask   age  \\\n",
       "0  40.5   1964          False        False  42.0   \n",
       "2  40.0    NaN          False        False   NaN   \n",
       "1  42.9   1964          False        False  46.0   \n",
       "7  44.8    NaN          False        False  40.0   \n",
       "\n",
       "                                  whiskey  cost_per_point  \n",
       "0  Black Bowmore 42 year old 1964 vintage       46.391753  \n",
       "2               Johnnie Walker Blue Label        2.319588  \n",
       "1    Bowmore 46 year old (distilled 1964)      139.175258  \n",
       "7                     Bowmore 40 year old      114.583333  "
      ]
     },
     "execution_count": 1309,
     "metadata": {},
     "output_type": "execute_result"
    }
   ],
   "source": [
    "# cost per point is what consumer pays for the whiskey over review points the whiskey earned\n",
    "df[\"cost_per_point\"] = df[\"price_usd\"]/df[\"points\"]\n",
    "df.head(4)"
   ]
  },
  {
   "cell_type": "markdown",
   "metadata": {},
   "source": [
    "##### 5.9 Rearrange the dataset"
   ]
  },
  {
   "cell_type": "markdown",
   "metadata": {},
   "source": [
    "<span style = \"color:green\"> With the introduction of new columns (whiskey, age, year, abv%) to the dataset, the name column is redundant </span>"
   ]
  },
  {
   "cell_type": "code",
   "execution_count": 1310,
   "metadata": {},
   "outputs": [
    {
     "data": {
      "text/html": [
       "<div>\n",
       "<style scoped>\n",
       "    .dataframe tbody tr th:only-of-type {\n",
       "        vertical-align: middle;\n",
       "    }\n",
       "\n",
       "    .dataframe tbody tr th {\n",
       "        vertical-align: top;\n",
       "    }\n",
       "\n",
       "    .dataframe thead th {\n",
       "        text-align: right;\n",
       "    }\n",
       "</style>\n",
       "<table border=\"1\" class=\"dataframe\">\n",
       "  <thead>\n",
       "    <tr style=\"text-align: right;\">\n",
       "      <th></th>\n",
       "      <th>whiskey</th>\n",
       "      <th>category</th>\n",
       "      <th>points</th>\n",
       "      <th>price_usd</th>\n",
       "      <th>age</th>\n",
       "      <th>abv%</th>\n",
       "      <th>cost_per_point</th>\n",
       "      <th>single_cask</th>\n",
       "      <th>cask_strenght</th>\n",
       "      <th>year</th>\n",
       "      <th>review</th>\n",
       "    </tr>\n",
       "  </thead>\n",
       "  <tbody>\n",
       "    <tr>\n",
       "      <th>0</th>\n",
       "      <td>Black Bowmore 42 year old 1964 vintage</td>\n",
       "      <td>Single Malt Scotch</td>\n",
       "      <td>97</td>\n",
       "      <td>4500</td>\n",
       "      <td>42.0</td>\n",
       "      <td>40.5</td>\n",
       "      <td>46.391753</td>\n",
       "      <td>False</td>\n",
       "      <td>False</td>\n",
       "      <td>1964</td>\n",
       "      <td>What impresses me most is how this whisky evolves; it's incredibly complex. On the nose and palate, this is a thick, viscous, whisky with notes of sticky toffee, earthy oak, fig cake, roasted nuts, fallen fruit, pancake batter, black cherry, ripe peach, dark chocolate-covered espresso bean, polished leather, tobacco, a hint of wild game, and lingering, leafy damp kiln smoke. Flavors continue on the palate long after swallowing. This is what we all hope for (and dream of) in an older whisky!</td>\n",
       "    </tr>\n",
       "    <tr>\n",
       "      <th>2</th>\n",
       "      <td>Johnnie Walker Blue Label</td>\n",
       "      <td>Blended Scotch Whisky</td>\n",
       "      <td>97</td>\n",
       "      <td>225</td>\n",
       "      <td>NaN</td>\n",
       "      <td>40.0</td>\n",
       "      <td>2.319588</td>\n",
       "      <td>False</td>\n",
       "      <td>False</td>\n",
       "      <td>NaN</td>\n",
       "      <td>Magnificently powerful and intense. Caramels, dried peats, elegant cigar smoke, seeds scraped from vanilla beans, brand new pencils, peppercorn, coriander seeds, and star anise make for a deeply satisfying nosing experience. Silky caramels, bountiful fruits of ripe peach, stewed apple, orange pith, and pervasive smoke with elements of burnt tobacco. An abiding finish of smoke, dry spices, and banoffee pie sweetness. Close to perfection. Editor's Choice</td>\n",
       "    </tr>\n",
       "  </tbody>\n",
       "</table>\n",
       "</div>"
      ],
      "text/plain": [
       "                                  whiskey               category  points  \\\n",
       "0  Black Bowmore 42 year old 1964 vintage     Single Malt Scotch      97   \n",
       "2               Johnnie Walker Blue Label  Blended Scotch Whisky      97   \n",
       "\n",
       "   price_usd   age  abv%  cost_per_point  single_cask  cask_strenght   year  \\\n",
       "0       4500  42.0  40.5       46.391753        False          False   1964   \n",
       "2        225   NaN  40.0        2.319588        False          False    NaN   \n",
       "\n",
       "                                                                                                                                                                                                                                                                                                                                                                                                                                                                                                            review  \n",
       "0  What impresses me most is how this whisky evolves; it's incredibly complex. On the nose and palate, this is a thick, viscous, whisky with notes of sticky toffee, earthy oak, fig cake, roasted nuts, fallen fruit, pancake batter, black cherry, ripe peach, dark chocolate-covered espresso bean, polished leather, tobacco, a hint of wild game, and lingering, leafy damp kiln smoke. Flavors continue on the palate long after swallowing. This is what we all hope for (and dream of) in an older whisky!  \n",
       "2                                         Magnificently powerful and intense. Caramels, dried peats, elegant cigar smoke, seeds scraped from vanilla beans, brand new pencils, peppercorn, coriander seeds, and star anise make for a deeply satisfying nosing experience. Silky caramels, bountiful fruits of ripe peach, stewed apple, orange pith, and pervasive smoke with elements of burnt tobacco. An abiding finish of smoke, dry spices, and banoffee pie sweetness. Close to perfection. Editor's Choice  "
      ]
     },
     "execution_count": 1310,
     "metadata": {},
     "output_type": "execute_result"
    }
   ],
   "source": [
    "# drop the name column and rearrange the columns position inside the new dataframe\n",
    "df=df.drop(columns=\"name\")\n",
    "df=df[[\"whiskey\",\"category\",\"points\",\"price_usd\",\"age\",\"abv%\",\"cost_per_point\",\"single_cask\",\"cask_strenght\",\"year\",\"review\"]]\n",
    "df.head(2)"
   ]
  },
  {
   "cell_type": "markdown",
   "metadata": {},
   "source": [
    "#### 6. Handling missing values"
   ]
  },
  {
   "cell_type": "markdown",
   "metadata": {},
   "source": [
    "<span style = \"color:green\"> With the introduction of new columns (features) to the dataset, there are possibilites that some of those new columns have missing (null) values </span>"
   ]
  },
  {
   "cell_type": "code",
   "execution_count": 1311,
   "metadata": {},
   "outputs": [
    {
     "name": "stdout",
     "output_type": "stream",
     "text": [
      "<class 'pandas.core.frame.DataFrame'>\n",
      "Int64Index: 2187 entries, 0 to 2246\n",
      "Data columns (total 11 columns):\n",
      " #   Column          Non-Null Count  Dtype   \n",
      "---  ------          --------------  -----   \n",
      " 0   whiskey         2187 non-null   object  \n",
      " 1   category        2187 non-null   category\n",
      " 2   points          2187 non-null   int64   \n",
      " 3   price_usd       2187 non-null   int32   \n",
      " 4   age             1152 non-null   float64 \n",
      " 5   abv%            2177 non-null   float64 \n",
      " 6   cost_per_point  2187 non-null   float64 \n",
      " 7   single_cask     2187 non-null   bool    \n",
      " 8   cask_strenght   2187 non-null   bool    \n",
      " 9   year            807 non-null    object  \n",
      " 10  review          2149 non-null   object  \n",
      "dtypes: bool(2), category(1), float64(3), int32(1), int64(1), object(3)\n",
      "memory usage: 151.8+ KB\n"
     ]
    }
   ],
   "source": [
    "# take a look at the new dataframe\n",
    "df.info()"
   ]
  },
  {
   "cell_type": "markdown",
   "metadata": {},
   "source": [
    "<span style = \"color:green\"> The abv% column which is important for our data analysis has null values. </span>"
   ]
  },
  {
   "cell_type": "markdown",
   "metadata": {},
   "source": [
    "<span style = \"color:green\">One way of the handling the null values for abv% column is by finding the mean, mode and mode abv% for each category of whiskey (Single Malt,Blended Malt,Blended Malt).Then use the appropriate value to fill the missing abv% values in each category </span>"
   ]
  },
  {
   "cell_type": "markdown",
   "metadata": {},
   "source": [
    "<span style = \"color:green\"> But before deciding on using the mean or mode or median values to fill null abv% values, we need to check if there are too many outliers of abv% in each category</span>"
   ]
  },
  {
   "cell_type": "code",
   "execution_count": 1312,
   "metadata": {},
   "outputs": [],
   "source": [
    "# group using the category column\n",
    "category_group=df.groupby(by=\"category\")"
   ]
  },
  {
   "cell_type": "code",
   "execution_count": 1313,
   "metadata": {},
   "outputs": [
    {
     "data": {
      "text/plain": [
       "10"
      ]
     },
     "execution_count": 1313,
     "metadata": {},
     "output_type": "execute_result"
    }
   ],
   "source": [
    "# finding null values for abv% in each group\n",
    "category_group.get_group(\"Single Malt Scotch\")[\"abv%\"].isnull().sum()"
   ]
  },
  {
   "cell_type": "code",
   "execution_count": 1314,
   "metadata": {},
   "outputs": [
    {
     "data": {
      "text/plain": [
       "10"
      ]
     },
     "execution_count": 1314,
     "metadata": {},
     "output_type": "execute_result"
    }
   ],
   "source": [
    "# the total null values for abv% in the dataframe\n",
    "df[\"abv%\"].isnull().sum()"
   ]
  },
  {
   "cell_type": "markdown",
   "metadata": {},
   "source": [
    "<span style = \"color:green\">Looks like all the missing abv% values belong to the \"Single Malt Scotch\" category.\n",
    "Lets see what the distribution of the abv% in that category looks like</span> "
   ]
  },
  {
   "cell_type": "code",
   "execution_count": 1315,
   "metadata": {},
   "outputs": [
    {
     "data": {
      "image/png": "[encoded data removed]",
      "text/plain": [
       "<Figure size 432x288 with 1 Axes>"
      ]
     },
     "metadata": {
      "needs_background": "light"
     },
     "output_type": "display_data"
    }
   ],
   "source": [
    "category_group.get_group(\"Single Malt Scotch\")[\"abv%\"].hist();"
   ]
  },
  {
   "cell_type": "markdown",
   "metadata": {},
   "source": [
    "<span style = \"color:green\"> The histrogram is left skewed (shows presence of outliers). We can use either the mode or median value to fill the missing values in abv% column </span> "
   ]
  },
  {
   "cell_type": "code",
   "execution_count": 1316,
   "metadata": {},
   "outputs": [
    {
     "data": {
      "text/plain": [
       "46.0"
      ]
     },
     "execution_count": 1316,
     "metadata": {},
     "output_type": "execute_result"
    }
   ],
   "source": [
    "# calculate the mode for \"Single Malt Scotch\" abv%\n",
    "category_group.get_group(\"Single Malt Scotch\")[\"abv%\"].mode()[0]"
   ]
  },
  {
   "cell_type": "code",
   "execution_count": 1317,
   "metadata": {},
   "outputs": [
    {
     "data": {
      "text/plain": [
       "46.150000000000006"
      ]
     },
     "execution_count": 1317,
     "metadata": {},
     "output_type": "execute_result"
    }
   ],
   "source": [
    "# calculate the median for \"Single Malt Scotch\" abv%\n",
    "category_group.get_group(\"Single Malt Scotch\")[\"abv%\"].median()"
   ]
  },
  {
   "cell_type": "markdown",
   "metadata": {},
   "source": [
    "<span style = \"color:green\"> The median and mode value is the same for this category. So we can just use the mode value to fill the missing values in abv% </span> "
   ]
  },
  {
   "cell_type": "code",
   "execution_count": 1341,
   "metadata": {},
   "outputs": [],
   "source": [
    "df[\"abv%\"]=df.groupby(\"category\")[\"abv%\"].apply(lambda x: x.fillna(x.mode()[0]))"
   ]
  },
  {
   "cell_type": "code",
   "execution_count": 1345,
   "metadata": {},
   "outputs": [
    {
     "name": "stdout",
     "output_type": "stream",
     "text": [
      "<class 'pandas.core.series.Series'>\n",
      "Int64Index: 2187 entries, 0 to 2246\n",
      "Series name: abv%\n",
      "Non-Null Count  Dtype  \n",
      "--------------  -----  \n",
      "2187 non-null   float64\n",
      "dtypes: float64(1)\n",
      "memory usage: 34.2 KB\n"
     ]
    }
   ],
   "source": [
    "# check to see if any null values after fillna() operation\n",
    "df[\"abv%\"].info()"
   ]
  },
  {
   "cell_type": "markdown",
   "metadata": {},
   "source": [
    "<span style = \"color:green\">Good! There are no more missing values in abv% </span> "
   ]
  },
  {
   "cell_type": "markdown",
   "metadata": {},
   "source": [
    "#### Exploratory data analysis <span style=\"color:green\"> (with Questions) </span>"
   ]
  },
  {
   "cell_type": "markdown",
   "metadata": {},
   "source": [
    "Question 1:  Is the most premium whiskey bottled from a single cask ?"
   ]
  },
  {
   "cell_type": "code",
   "execution_count": 1353,
   "metadata": {},
   "outputs": [
    {
     "data": {
      "text/plain": [
       "False"
      ]
     },
     "execution_count": 1353,
     "metadata": {},
     "output_type": "execute_result"
    }
   ],
   "source": [
    "# sort the dataframe by price_usd in descending order and see if the singe_cask column holds True for the top most observation\n",
    "df.sort_values(by=\"price_usd\", ascending=False)[\"single_cask\"][0]"
   ]
  },
  {
   "cell_type": "code",
   "execution_count": 1356,
   "metadata": {},
   "outputs": [
    {
     "data": {
      "text/html": [
       "<div>\n",
       "<style scoped>\n",
       "    .dataframe tbody tr th:only-of-type {\n",
       "        vertical-align: middle;\n",
       "    }\n",
       "\n",
       "    .dataframe tbody tr th {\n",
       "        vertical-align: top;\n",
       "    }\n",
       "\n",
       "    .dataframe thead th {\n",
       "        text-align: right;\n",
       "    }\n",
       "</style>\n",
       "<table border=\"1\" class=\"dataframe\">\n",
       "  <thead>\n",
       "    <tr style=\"text-align: right;\">\n",
       "      <th></th>\n",
       "      <th>whiskey</th>\n",
       "      <th>category</th>\n",
       "      <th>points</th>\n",
       "      <th>price_usd</th>\n",
       "      <th>age</th>\n",
       "      <th>abv%</th>\n",
       "      <th>cost_per_point</th>\n",
       "      <th>single_cask</th>\n",
       "      <th>cask_strenght</th>\n",
       "      <th>year</th>\n",
       "      <th>review</th>\n",
       "    </tr>\n",
       "  </thead>\n",
       "  <tbody>\n",
       "    <tr>\n",
       "      <th>151</th>\n",
       "      <td>Diamond Jubilee by John Walker &amp; Sons</td>\n",
       "      <td>Blended Scotch Whisky</td>\n",
       "      <td>93</td>\n",
       "      <td>157000</td>\n",
       "      <td>NaN</td>\n",
       "      <td>42.5</td>\n",
       "      <td>1688.172043</td>\n",
       "      <td>False</td>\n",
       "      <td>False</td>\n",
       "      <td>NaN</td>\n",
       "      <td>Bowmore lovers rarely get excited about the smokiness of their favorite single malt. Rather, they obsess about the tropical fruits that some old bottlings exhibit. Here is one such example. Initially the nose suggests verjus and linseed oil, but then peachiness rather than beachiness emerges. The smoke hits first on the tongue, backed up with mango and violet, then the tropical elements and the smoke play off each other up until a guava-laden finish.</td>\n",
       "    </tr>\n",
       "  </tbody>\n",
       "</table>\n",
       "</div>"
      ],
      "text/plain": [
       "                                   whiskey               category  points  \\\n",
       "151  Diamond Jubilee by John Walker & Sons  Blended Scotch Whisky      93   \n",
       "\n",
       "     price_usd  age  abv%  cost_per_point  single_cask  cask_strenght year  \\\n",
       "151     157000  NaN  42.5     1688.172043        False          False  NaN   \n",
       "\n",
       "                                                                                                                                                                                                                                                                                                                                                                                                                                                                     review  \n",
       "151  Bowmore lovers rarely get excited about the smokiness of their favorite single malt. Rather, they obsess about the tropical fruits that some old bottlings exhibit. Here is one such example. Initially the nose suggests verjus and linseed oil, but then peachiness rather than beachiness emerges. The smoke hits first on the tongue, backed up with mango and violet, then the tropical elements and the smoke play off each other up until a guava-laden finish.  "
      ]
     },
     "execution_count": 1356,
     "metadata": {},
     "output_type": "execute_result"
    }
   ],
   "source": [
    "# print the top most record in the sorted dataframe \n",
    "df.sort_values(by=\"price_usd\", ascending=False).head(1)"
   ]
  },
  {
   "cell_type": "code",
   "execution_count": 1360,
   "metadata": {},
   "outputs": [
    {
     "data": {
      "text/plain": [
       "151    False\n",
       "182    False\n",
       "82     False\n",
       "88     False\n",
       "699    False\n",
       "Name: single_cask, dtype: bool"
      ]
     },
     "execution_count": 1360,
     "metadata": {},
     "output_type": "execute_result"
    }
   ],
   "source": [
    "# Print if the top 5 most priced whiskey's are from single casks \n",
    "df.sort_values(by=\"price_usd\", ascending=False)[\"single_cask\"].head(5)"
   ]
  },
  {
   "cell_type": "markdown",
   "metadata": {},
   "source": [
    "<span style = \"color:green\"> The most expensive whiskey is NOT made from a single cask or a barrel, matter of fact it is a blended scotch that uses malt and grains and final product is a blend from multiple barrels and none of the top 5 priced whiskeys are bottled from single casks</span> "
   ]
  },
  {
   "cell_type": "markdown",
   "metadata": {},
   "source": [
    "Question 2:  Is the most strongest whiskey (by ABV) bottled at cask strenght or was it watered down during bottling ?"
   ]
  },
  {
   "cell_type": "code",
   "execution_count": 1361,
   "metadata": {},
   "outputs": [
    {
     "data": {
      "text/plain": [
       "False"
      ]
     },
     "execution_count": 1361,
     "metadata": {},
     "output_type": "execute_result"
    }
   ],
   "source": [
    "# sort the dataframe by abv% in descending order and see if the cask_strenght column holds True for the top most observation\n",
    "df.sort_values(by=\"abv%\", ascending=False)[\"cask_strenght\"][0]"
   ]
  },
  {
   "cell_type": "code",
   "execution_count": 1362,
   "metadata": {},
   "outputs": [
    {
     "data": {
      "text/html": [
       "<div>\n",
       "<style scoped>\n",
       "    .dataframe tbody tr th:only-of-type {\n",
       "        vertical-align: middle;\n",
       "    }\n",
       "\n",
       "    .dataframe tbody tr th {\n",
       "        vertical-align: top;\n",
       "    }\n",
       "\n",
       "    .dataframe thead th {\n",
       "        text-align: right;\n",
       "    }\n",
       "</style>\n",
       "<table border=\"1\" class=\"dataframe\">\n",
       "  <thead>\n",
       "    <tr style=\"text-align: right;\">\n",
       "      <th></th>\n",
       "      <th>whiskey</th>\n",
       "      <th>category</th>\n",
       "      <th>points</th>\n",
       "      <th>price_usd</th>\n",
       "      <th>age</th>\n",
       "      <th>abv%</th>\n",
       "      <th>cost_per_point</th>\n",
       "      <th>single_cask</th>\n",
       "      <th>cask_strenght</th>\n",
       "      <th>year</th>\n",
       "      <th>review</th>\n",
       "    </tr>\n",
       "  </thead>\n",
       "  <tbody>\n",
       "    <tr>\n",
       "      <th>1926</th>\n",
       "      <td>Wemyss Malts Fruit Bonbons (distilled at Glen Garioch) 1989</td>\n",
       "      <td>Single Malt Scotch</td>\n",
       "      <td>85</td>\n",
       "      <td>137</td>\n",
       "      <td>NaN</td>\n",
       "      <td>66.0</td>\n",
       "      <td>1.611765</td>\n",
       "      <td>False</td>\n",
       "      <td>False</td>\n",
       "      <td>1989</td>\n",
       "      <td>This 1998 vintage triple distilled Lowland Auchentoshan has been matured in fino sherry casks, which are rarely used for Scotch whisky maturation. The nose presents violets in fresh soil, honey, spice, developing citric fruit notes, and almonds. Quite full-bodied, fruity and zesty in the mouth. Lengthy in the finish, with spice, nuts, and oak. Becoming dry and gingery at the last.</td>\n",
       "    </tr>\n",
       "  </tbody>\n",
       "</table>\n",
       "</div>"
      ],
      "text/plain": [
       "                                                          whiskey  \\\n",
       "1926  Wemyss Malts Fruit Bonbons (distilled at Glen Garioch) 1989   \n",
       "\n",
       "                category  points  price_usd  age  abv%  cost_per_point  \\\n",
       "1926  Single Malt Scotch      85        137  NaN  66.0        1.611765   \n",
       "\n",
       "      single_cask  cask_strenght   year  \\\n",
       "1926        False          False   1989   \n",
       "\n",
       "                                                                                                                                                                                                                                                                                                                                                                                               review  \n",
       "1926  This 1998 vintage triple distilled Lowland Auchentoshan has been matured in fino sherry casks, which are rarely used for Scotch whisky maturation. The nose presents violets in fresh soil, honey, spice, developing citric fruit notes, and almonds. Quite full-bodied, fruity and zesty in the mouth. Lengthy in the finish, with spice, nuts, and oak. Becoming dry and gingery at the last.  "
      ]
     },
     "execution_count": 1362,
     "metadata": {},
     "output_type": "execute_result"
    }
   ],
   "source": [
    "# lets coroborate that by seeing the whole record in the dataframe\n",
    "df.sort_values(by=\"abv%\", ascending=False).head(1)"
   ]
  },
  {
   "cell_type": "code",
   "execution_count": 1369,
   "metadata": {},
   "outputs": [
    {
     "data": {
      "text/html": [
       "<div>\n",
       "<style scoped>\n",
       "    .dataframe tbody tr th:only-of-type {\n",
       "        vertical-align: middle;\n",
       "    }\n",
       "\n",
       "    .dataframe tbody tr th {\n",
       "        vertical-align: top;\n",
       "    }\n",
       "\n",
       "    .dataframe thead th {\n",
       "        text-align: right;\n",
       "    }\n",
       "</style>\n",
       "<table border=\"1\" class=\"dataframe\">\n",
       "  <thead>\n",
       "    <tr style=\"text-align: right;\">\n",
       "      <th></th>\n",
       "      <th>whiskey</th>\n",
       "      <th>category</th>\n",
       "      <th>points</th>\n",
       "      <th>price_usd</th>\n",
       "      <th>age</th>\n",
       "      <th>abv%</th>\n",
       "      <th>cost_per_point</th>\n",
       "      <th>single_cask</th>\n",
       "      <th>cask_strenght</th>\n",
       "      <th>year</th>\n",
       "      <th>review</th>\n",
       "    </tr>\n",
       "  </thead>\n",
       "  <tbody>\n",
       "    <tr>\n",
       "      <th>1926</th>\n",
       "      <td>Wemyss Malts Fruit Bonbons (distilled at Glen Garioch) 1989</td>\n",
       "      <td>Single Malt Scotch</td>\n",
       "      <td>85</td>\n",
       "      <td>137</td>\n",
       "      <td>NaN</td>\n",
       "      <td>66.0</td>\n",
       "      <td>1.611765</td>\n",
       "      <td>False</td>\n",
       "      <td>False</td>\n",
       "      <td>1989</td>\n",
       "      <td>This 1998 vintage triple distilled Lowland Auchentoshan has been matured in fino sherry casks, which are rarely used for Scotch whisky maturation. The nose presents violets in fresh soil, honey, spice, developing citric fruit notes, and almonds. Quite full-bodied, fruity and zesty in the mouth. Lengthy in the finish, with spice, nuts, and oak. Becoming dry and gingery at the last.</td>\n",
       "    </tr>\n",
       "    <tr>\n",
       "      <th>1115</th>\n",
       "      <td>Caol Ila 'Unpeated Style</td>\n",
       "      <td>Single Malt Scotch</td>\n",
       "      <td>88</td>\n",
       "      <td>60</td>\n",
       "      <td>10.0</td>\n",
       "      <td>65.8</td>\n",
       "      <td>0.681818</td>\n",
       "      <td>False</td>\n",
       "      <td>False</td>\n",
       "      <td>2009</td>\n",
       "      <td>Deep gold color. This whisky is finished off in new oak, and it certainly shows. There are lots of complex wood spices in this whisky, and it is intensely deep and mature for such a young age. There’s a firmness to the whisky that’s very appealing. It is exciting too, with notes of toasted oak, vanilla, and a hint of dark chocolate.</td>\n",
       "    </tr>\n",
       "    <tr>\n",
       "      <th>1296</th>\n",
       "      <td>Balvenie 2009 vintage</td>\n",
       "      <td>Single Malt Scotch</td>\n",
       "      <td>88</td>\n",
       "      <td>661</td>\n",
       "      <td>NaN</td>\n",
       "      <td>64.6</td>\n",
       "      <td>7.511364</td>\n",
       "      <td>False</td>\n",
       "      <td>False</td>\n",
       "      <td>2009</td>\n",
       "      <td>A mix of American and Spanish oak casks was used to mature this addition to the core range. A big blast of orchard and tropical fruits characterizes the early nose, along with honey, vanilla, and toffee. The palate also majors in fruit, this time principally oranges, plus caramel, cinnamon, milk chocolate, and lots of vanilla. The finish is quite short, with banana and ginger.</td>\n",
       "    </tr>\n",
       "    <tr>\n",
       "      <th>2124</th>\n",
       "      <td>Single Malts of Scotland (distilled at Tormore) 1988</td>\n",
       "      <td>Single Malt Scotch</td>\n",
       "      <td>84</td>\n",
       "      <td>150</td>\n",
       "      <td>NaN</td>\n",
       "      <td>64.2</td>\n",
       "      <td>1.785714</td>\n",
       "      <td>False</td>\n",
       "      <td>False</td>\n",
       "      <td>1988</td>\n",
       "      <td>A Glen Ord bottled by the London wine and spirits establishment of Milroy’s, and a relatively rare opportunity to sample single malt from this Diageo-owned distillery. The nose initially presents lemon zest, then peaches and caramel, with cream soda notes. Very fruity and lively in the mouth, with a nutty, malty undercurrent. Medium in length; firm, with spicy fruit lasting to the very end, accompanied by a touch of well-mannered fresh oak. £45 Currently not available in the U.S.</td>\n",
       "    </tr>\n",
       "    <tr>\n",
       "      <th>1957</th>\n",
       "      <td>Octomore Islay Barley 2009</td>\n",
       "      <td>Single Malt Scotch</td>\n",
       "      <td>85</td>\n",
       "      <td>239</td>\n",
       "      <td>NaN</td>\n",
       "      <td>64.0</td>\n",
       "      <td>2.811765</td>\n",
       "      <td>False</td>\n",
       "      <td>False</td>\n",
       "      <td>2009</td>\n",
       "      <td>One of the latest batch of single cask bottlings from Wemyss Malts is a 15 year old Clynelish, named ‘Fresh Fruit Sorbet.’ 331 bottles have been released. Tinned pears, new-mown hay, honey, and lemon sherbet on the nose, with a hint of machine oil. The palate is smooth and fruity, with pears, figs, and a suggestion of black pepper. The dominant fruitiness continues through the sugary finish, with a background prickle of spice. £60</td>\n",
       "    </tr>\n",
       "  </tbody>\n",
       "</table>\n",
       "</div>"
      ],
      "text/plain": [
       "                                                          whiskey  \\\n",
       "1926  Wemyss Malts Fruit Bonbons (distilled at Glen Garioch) 1989   \n",
       "1115                                     Caol Ila 'Unpeated Style   \n",
       "1296                                        Balvenie 2009 vintage   \n",
       "2124         Single Malts of Scotland (distilled at Tormore) 1988   \n",
       "1957                                   Octomore Islay Barley 2009   \n",
       "\n",
       "                category  points  price_usd   age  abv%  cost_per_point  \\\n",
       "1926  Single Malt Scotch      85        137   NaN  66.0        1.611765   \n",
       "1115  Single Malt Scotch      88         60  10.0  65.8        0.681818   \n",
       "1296  Single Malt Scotch      88        661   NaN  64.6        7.511364   \n",
       "2124  Single Malt Scotch      84        150   NaN  64.2        1.785714   \n",
       "1957  Single Malt Scotch      85        239   NaN  64.0        2.811765   \n",
       "\n",
       "      single_cask  cask_strenght   year  \\\n",
       "1926        False          False   1989   \n",
       "1115        False          False   2009   \n",
       "1296        False          False   2009   \n",
       "2124        False          False   1988   \n",
       "1957        False          False   2009   \n",
       "\n",
       "                                                                                                                                                                                                                                                                                                                                                                                                                                                                                                    review  \n",
       "1926                                                                                                       This 1998 vintage triple distilled Lowland Auchentoshan has been matured in fino sherry casks, which are rarely used for Scotch whisky maturation. The nose presents violets in fresh soil, honey, spice, developing citric fruit notes, and almonds. Quite full-bodied, fruity and zesty in the mouth. Lengthy in the finish, with spice, nuts, and oak. Becoming dry and gingery at the last.  \n",
       "1115                                                                                                                                                        Deep gold color. This whisky is finished off in new oak, and it certainly shows. There are lots of complex wood spices in this whisky, and it is intensely deep and mature for such a young age. There’s a firmness to the whisky that’s very appealing. It is exciting too, with notes of toasted oak, vanilla, and a hint of dark chocolate.  \n",
       "1296                                                                                                           A mix of American and Spanish oak casks was used to mature this addition to the core range. A big blast of orchard and tropical fruits characterizes the early nose, along with honey, vanilla, and toffee. The palate also majors in fruit, this time principally oranges, plus caramel, cinnamon, milk chocolate, and lots of vanilla. The finish is quite short, with banana and ginger.  \n",
       "2124  A Glen Ord bottled by the London wine and spirits establishment of Milroy’s, and a relatively rare opportunity to sample single malt from this Diageo-owned distillery. The nose initially presents lemon zest, then peaches and caramel, with cream soda notes. Very fruity and lively in the mouth, with a nutty, malty undercurrent. Medium in length; firm, with spicy fruit lasting to the very end, accompanied by a touch of well-mannered fresh oak. £45 Currently not available in the U.S.  \n",
       "1957                                                    One of the latest batch of single cask bottlings from Wemyss Malts is a 15 year old Clynelish, named ‘Fresh Fruit Sorbet.’ 331 bottles have been released. Tinned pears, new-mown hay, honey, and lemon sherbet on the nose, with a hint of machine oil. The palate is smooth and fruity, with pears, figs, and a suggestion of black pepper. The dominant fruitiness continues through the sugary finish, with a background prickle of spice. £60  "
      ]
     },
     "execution_count": 1369,
     "metadata": {},
     "output_type": "execute_result"
    }
   ],
   "source": [
    "# But what about the whiskeys in top 5 abv% list, lets check out!\n",
    "df.sort_values(by=\"abv%\", ascending=False).head(5)"
   ]
  },
  {
   "cell_type": "markdown",
   "metadata": {},
   "source": [
    "<span style = \"color:green\"> The most strongest whiskey (by ABV) is NOT bottled at cask strenght and they are pretty strong even after dilution and also none of the top 5 strongest whiskeys are bottled at cask strenght</span> "
   ]
  },
  {
   "cell_type": "code",
   "execution_count": 1375,
   "metadata": {},
   "outputs": [
    {
     "data": {
      "text/plain": [
       "1926    Single Malt Scotch\n",
       "1115    Single Malt Scotch\n",
       "1296    Single Malt Scotch\n",
       "2124    Single Malt Scotch\n",
       "1957    Single Malt Scotch\n",
       "2227    Single Malt Scotch\n",
       "1322    Single Malt Scotch\n",
       "241     Single Malt Scotch\n",
       "622     Single Malt Scotch\n",
       "403     Single Malt Scotch\n",
       "Name: category, dtype: category\n",
       "Categories (3, object): ['Blended Malt Scotch Whisky', 'Blended Scotch Whisky', 'Single Malt Scotch']"
      ]
     },
     "execution_count": 1375,
     "metadata": {},
     "output_type": "execute_result"
    }
   ],
   "source": [
    "# Trivia : The top 10 strongest whiskeys are all single malts\n",
    "df.sort_values(by=\"abv%\", ascending=False)[\"category\"][:10]"
   ]
  },
  {
   "cell_type": "markdown",
   "metadata": {},
   "source": [
    "Question 3:  What is the most prominent category among whiskeys that are highly rated (above 85 point)?"
   ]
  },
  {
   "cell_type": "code",
   "execution_count": 1376,
   "metadata": {},
   "outputs": [],
   "source": [
    "# create a dataframe that holds only whiskey data with points greater than 85\n",
    "higest_rated = df[df[\"points\"]>85]"
   ]
  },
  {
   "cell_type": "code",
   "execution_count": 1378,
   "metadata": {},
   "outputs": [
    {
     "data": {
      "text/html": [
       "<div>\n",
       "<style scoped>\n",
       "    .dataframe tbody tr th:only-of-type {\n",
       "        vertical-align: middle;\n",
       "    }\n",
       "\n",
       "    .dataframe tbody tr th {\n",
       "        vertical-align: top;\n",
       "    }\n",
       "\n",
       "    .dataframe thead th {\n",
       "        text-align: right;\n",
       "    }\n",
       "</style>\n",
       "<table border=\"1\" class=\"dataframe\">\n",
       "  <thead>\n",
       "    <tr style=\"text-align: right;\">\n",
       "      <th></th>\n",
       "      <th>whiskey</th>\n",
       "      <th>category</th>\n",
       "      <th>points</th>\n",
       "      <th>price_usd</th>\n",
       "      <th>age</th>\n",
       "      <th>abv%</th>\n",
       "      <th>cost_per_point</th>\n",
       "      <th>single_cask</th>\n",
       "      <th>cask_strenght</th>\n",
       "      <th>year</th>\n",
       "      <th>review</th>\n",
       "    </tr>\n",
       "  </thead>\n",
       "  <tbody>\n",
       "    <tr>\n",
       "      <th>0</th>\n",
       "      <td>Black Bowmore 42 year old 1964 vintage</td>\n",
       "      <td>Single Malt Scotch</td>\n",
       "      <td>97</td>\n",
       "      <td>4500</td>\n",
       "      <td>42.0</td>\n",
       "      <td>40.5</td>\n",
       "      <td>46.391753</td>\n",
       "      <td>False</td>\n",
       "      <td>False</td>\n",
       "      <td>1964</td>\n",
       "      <td>What impresses me most is how this whisky evolves; it's incredibly complex. On the nose and palate, this is a thick, viscous, whisky with notes of sticky toffee, earthy oak, fig cake, roasted nuts, fallen fruit, pancake batter, black cherry, ripe peach, dark chocolate-covered espresso bean, polished leather, tobacco, a hint of wild game, and lingering, leafy damp kiln smoke. Flavors continue on the palate long after swallowing. This is what we all hope for (and dream of) in an older whisky!</td>\n",
       "    </tr>\n",
       "    <tr>\n",
       "      <th>2</th>\n",
       "      <td>Johnnie Walker Blue Label</td>\n",
       "      <td>Blended Scotch Whisky</td>\n",
       "      <td>97</td>\n",
       "      <td>225</td>\n",
       "      <td>NaN</td>\n",
       "      <td>40.0</td>\n",
       "      <td>2.319588</td>\n",
       "      <td>False</td>\n",
       "      <td>False</td>\n",
       "      <td>NaN</td>\n",
       "      <td>Magnificently powerful and intense. Caramels, dried peats, elegant cigar smoke, seeds scraped from vanilla beans, brand new pencils, peppercorn, coriander seeds, and star anise make for a deeply satisfying nosing experience. Silky caramels, bountiful fruits of ripe peach, stewed apple, orange pith, and pervasive smoke with elements of burnt tobacco. An abiding finish of smoke, dry spices, and banoffee pie sweetness. Close to perfection. Editor's Choice</td>\n",
       "    </tr>\n",
       "    <tr>\n",
       "      <th>1</th>\n",
       "      <td>Bowmore 46 year old (distilled 1964)</td>\n",
       "      <td>Single Malt Scotch</td>\n",
       "      <td>97</td>\n",
       "      <td>13500</td>\n",
       "      <td>46.0</td>\n",
       "      <td>42.9</td>\n",
       "      <td>139.175258</td>\n",
       "      <td>False</td>\n",
       "      <td>False</td>\n",
       "      <td>1964</td>\n",
       "      <td>There have been some legendary Bowmores from the mid-60s and this is every bit their equal. All of them share a remarkable aroma of tropical fruit, which here moves into hallucinatory intensity: guava, mango, peach, pineapple, grapefruit. There’s a very light touch of peat smoke, more a memory of Islay than the reality. Concentrated; even at low strength the palate is silky, heady, and haunting, and lasts forever in the dry glass. A legend is born. (Eight bottles only for the U.S.) Editor's Choice.</td>\n",
       "    </tr>\n",
       "  </tbody>\n",
       "</table>\n",
       "</div>"
      ],
      "text/plain": [
       "                                  whiskey               category  points  \\\n",
       "0  Black Bowmore 42 year old 1964 vintage     Single Malt Scotch      97   \n",
       "2               Johnnie Walker Blue Label  Blended Scotch Whisky      97   \n",
       "1    Bowmore 46 year old (distilled 1964)     Single Malt Scotch      97   \n",
       "\n",
       "   price_usd   age  abv%  cost_per_point  single_cask  cask_strenght   year  \\\n",
       "0       4500  42.0  40.5       46.391753        False          False   1964   \n",
       "2        225   NaN  40.0        2.319588        False          False    NaN   \n",
       "1      13500  46.0  42.9      139.175258        False          False   1964   \n",
       "\n",
       "                                                                                                                                                                                                                                                                                                                                                                                                                                                                                                                    review  \n",
       "0          What impresses me most is how this whisky evolves; it's incredibly complex. On the nose and palate, this is a thick, viscous, whisky with notes of sticky toffee, earthy oak, fig cake, roasted nuts, fallen fruit, pancake batter, black cherry, ripe peach, dark chocolate-covered espresso bean, polished leather, tobacco, a hint of wild game, and lingering, leafy damp kiln smoke. Flavors continue on the palate long after swallowing. This is what we all hope for (and dream of) in an older whisky!  \n",
       "2                                                 Magnificently powerful and intense. Caramels, dried peats, elegant cigar smoke, seeds scraped from vanilla beans, brand new pencils, peppercorn, coriander seeds, and star anise make for a deeply satisfying nosing experience. Silky caramels, bountiful fruits of ripe peach, stewed apple, orange pith, and pervasive smoke with elements of burnt tobacco. An abiding finish of smoke, dry spices, and banoffee pie sweetness. Close to perfection. Editor's Choice  \n",
       "1  There have been some legendary Bowmores from the mid-60s and this is every bit their equal. All of them share a remarkable aroma of tropical fruit, which here moves into hallucinatory intensity: guava, mango, peach, pineapple, grapefruit. There’s a very light touch of peat smoke, more a memory of Islay than the reality. Concentrated; even at low strength the palate is silky, heady, and haunting, and lasts forever in the dry glass. A legend is born. (Eight bottles only for the U.S.) Editor's Choice.  "
      ]
     },
     "execution_count": 1378,
     "metadata": {},
     "output_type": "execute_result"
    }
   ],
   "source": [
    "# check out the new dataframe\n",
    "higest_rated.head(3)"
   ]
  },
  {
   "cell_type": "code",
   "execution_count": 1381,
   "metadata": {},
   "outputs": [
    {
     "data": {
      "image/png": "[encoded data removed]",
      "text/plain": [
       "<Figure size 432x288 with 1 Axes>"
      ]
     },
     "metadata": {
      "needs_background": "light"
     },
     "output_type": "display_data"
    }
   ],
   "source": [
    "#plot a bar chart to figure out the category with most whiskeys greater than 85 points \n",
    "higest_rated[\"category\"].value_counts().plot.bar(rot=45);"
   ]
  },
  {
   "cell_type": "markdown",
   "metadata": {},
   "source": [
    "<span style = \"color:green\"> The most prominent category (close to 1400) amongst the highly rated whiskeys is the Single Malt. The only next nearest category is the Blended scotch at near 200  </span> "
   ]
  },
  {
   "cell_type": "markdown",
   "metadata": {},
   "source": [
    "Question 4:  What category of whiskey usually commands higer price ?"
   ]
  },
  {
   "cell_type": "code",
   "execution_count": 1394,
   "metadata": {},
   "outputs": [
    {
     "data": {
      "text/plain": [
       "category\n",
       "Blended Scotch Whisky    942.178423\n",
       "Name: price_usd, dtype: float64"
      ]
     },
     "execution_count": 1394,
     "metadata": {},
     "output_type": "execute_result"
    }
   ],
   "source": [
    "df.groupby(\"category\")[\"price_usd\"].mean().sort_values(ascending=False).head(1)"
   ]
  },
  {
   "cell_type": "markdown",
   "metadata": {},
   "source": [
    "<span style = \"color:green\">On an average Blended scotch whiskies sell at prices higer than  other 2 categories </span> "
   ]
  },
  {
   "cell_type": "markdown",
   "metadata": {},
   "source": [
    "Question 5:  Which whiskey is best bang for you buck when it comes to the highest rated whiskies (95 points and above) ?"
   ]
  },
  {
   "cell_type": "code",
   "execution_count": 1397,
   "metadata": {},
   "outputs": [],
   "source": [
    "# create a dataframe that only holds whiskies with points 95 and above\n",
    "points_95_and_above = df[df[\"points\"]>=95]"
   ]
  },
  {
   "cell_type": "code",
   "execution_count": 1403,
   "metadata": {},
   "outputs": [
    {
     "data": {
      "text/html": [
       "<div>\n",
       "<style scoped>\n",
       "    .dataframe tbody tr th:only-of-type {\n",
       "        vertical-align: middle;\n",
       "    }\n",
       "\n",
       "    .dataframe tbody tr th {\n",
       "        vertical-align: top;\n",
       "    }\n",
       "\n",
       "    .dataframe thead th {\n",
       "        text-align: right;\n",
       "    }\n",
       "</style>\n",
       "<table border=\"1\" class=\"dataframe\">\n",
       "  <thead>\n",
       "    <tr style=\"text-align: right;\">\n",
       "      <th></th>\n",
       "      <th>whiskey</th>\n",
       "      <th>category</th>\n",
       "      <th>points</th>\n",
       "      <th>price_usd</th>\n",
       "      <th>age</th>\n",
       "      <th>abv%</th>\n",
       "      <th>cost_per_point</th>\n",
       "      <th>single_cask</th>\n",
       "      <th>cask_strenght</th>\n",
       "      <th>year</th>\n",
       "      <th>review</th>\n",
       "    </tr>\n",
       "  </thead>\n",
       "  <tbody>\n",
       "    <tr>\n",
       "      <th>29</th>\n",
       "      <td>Bowmore 50 year old (distilled 1961)</td>\n",
       "      <td>Single Malt Scotch</td>\n",
       "      <td>95</td>\n",
       "      <td>26650</td>\n",
       "      <td>50.0</td>\n",
       "      <td>40.7</td>\n",
       "      <td>280.526316</td>\n",
       "      <td>False</td>\n",
       "      <td>False</td>\n",
       "      <td>1961</td>\n",
       "      <td>The whisky is sensational, a glorious mix of ginseng syrup, baked banana, semi-dried tropical fruits, and an exotic smoked edge. Without the last, you could believe it was a delicate Cognac. In time, there’s peppermint and guava syrup. A sip is all you need to reveal perfect, thrilling harmony: light nuttiness, pollen, subtle fruits, gentle smoke, and light fungal touches. It’s stunning, but it’s £16,000! Whisky this great, even in limited quantities, should be fairly priced. Points off. £16,000</td>\n",
       "    </tr>\n",
       "  </tbody>\n",
       "</table>\n",
       "</div>"
      ],
      "text/plain": [
       "                                 whiskey            category  points  \\\n",
       "29  Bowmore 50 year old (distilled 1961)  Single Malt Scotch      95   \n",
       "\n",
       "    price_usd   age  abv%  cost_per_point  single_cask  cask_strenght   year  \\\n",
       "29      26650  50.0  40.7      280.526316        False          False   1961   \n",
       "\n",
       "                                                                                                                                                                                                                                                                                                                                                                                                                                                                                                                  review  \n",
       "29  The whisky is sensational, a glorious mix of ginseng syrup, baked banana, semi-dried tropical fruits, and an exotic smoked edge. Without the last, you could believe it was a delicate Cognac. In time, there’s peppermint and guava syrup. A sip is all you need to reveal perfect, thrilling harmony: light nuttiness, pollen, subtle fruits, gentle smoke, and light fungal touches. It’s stunning, but it’s £16,000! Whisky this great, even in limited quantities, should be fairly priced. Points off. £16,000  "
      ]
     },
     "execution_count": 1403,
     "metadata": {},
     "output_type": "execute_result"
    }
   ],
   "source": [
    "# sort the new dataframe using cost_per_point in the descending order \n",
    "points_95_and_above.sort_values(by=\"cost_per_point\",ascending=False).head(1)"
   ]
  },
  {
   "cell_type": "markdown",
   "metadata": {},
   "source": [
    "<span style = \"color:green\">At $26,650 and 95 points the \"Bowmore 50 year old\" is the best bang for your buck when it comes to scotch whiskeys rated 95 and above </span> "
   ]
  }
 ],
 "metadata": {
  "interpreter": {
   "hash": "26de051ba29f2982a8de78e945f0abaf191376122a1563185a90213a26c5da77"
  },
  "kernelspec": {
   "display_name": "Python 3.10.4 64-bit",
   "language": "python",
   "name": "python3"
  },
  "language_info": {
   "codemirror_mode": {
    "name": "ipython",
    "version": 3
   },
   "file_extension": ".py",
   "mimetype": "text/x-python",
   "name": "python",
   "nbconvert_exporter": "python",
   "pygments_lexer": "ipython3",
   "version": "3.10.4"
  },
  "orig_nbformat": 4
 },
 "nbformat": 4,
 "nbformat_minor": 2
}
